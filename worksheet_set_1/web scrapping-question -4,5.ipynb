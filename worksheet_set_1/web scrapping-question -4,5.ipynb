{
 "cells": [
  {
   "cell_type": "code",
   "execution_count": 3,
   "metadata": {},
   "outputs": [
    {
     "name": "stdout",
     "output_type": "stream",
     "text": [
      "Requirement already satisfied: selenium in c:\\users\\lenovo\\anaconda3\\lib\\site-packages (4.0.0b4)\n",
      "Requirement already satisfied: urllib3[secure]~=1.26 in c:\\users\\lenovo\\anaconda3\\lib\\site-packages (from selenium) (1.26.6)\n",
      "Requirement already satisfied: trio~=0.17 in c:\\users\\lenovo\\anaconda3\\lib\\site-packages (from selenium) (0.19.0)\n",
      "Requirement already satisfied: trio-websocket~=0.9 in c:\\users\\lenovo\\anaconda3\\lib\\site-packages (from selenium) (0.9.2)\n",
      "Requirement already satisfied: certifi; extra == \"secure\" in c:\\users\\lenovo\\anaconda3\\lib\\site-packages (from urllib3[secure]~=1.26->selenium) (2020.6.20)\n",
      "Requirement already satisfied: pyOpenSSL>=0.14; extra == \"secure\" in c:\\users\\lenovo\\anaconda3\\lib\\site-packages (from urllib3[secure]~=1.26->selenium) (19.1.0)\n",
      "Requirement already satisfied: idna>=2.0.0; extra == \"secure\" in c:\\users\\lenovo\\anaconda3\\lib\\site-packages (from urllib3[secure]~=1.26->selenium) (2.10)\n",
      "Requirement already satisfied: cryptography>=1.3.4; extra == \"secure\" in c:\\users\\lenovo\\anaconda3\\lib\\site-packages (from urllib3[secure]~=1.26->selenium) (3.1.1)\n",
      "Requirement already satisfied: outcome in c:\\users\\lenovo\\anaconda3\\lib\\site-packages (from trio~=0.17->selenium) (1.1.0)\n",
      "Requirement already satisfied: sortedcontainers in c:\\users\\lenovo\\anaconda3\\lib\\site-packages (from trio~=0.17->selenium) (2.2.2)\n",
      "Requirement already satisfied: cffi>=1.14; os_name == \"nt\" and implementation_name != \"pypy\" in c:\\users\\lenovo\\anaconda3\\lib\\site-packages (from trio~=0.17->selenium) (1.14.3)\n",
      "Requirement already satisfied: attrs>=19.2.0 in c:\\users\\lenovo\\anaconda3\\lib\\site-packages (from trio~=0.17->selenium) (20.3.0)\n",
      "Requirement already satisfied: sniffio in c:\\users\\lenovo\\anaconda3\\lib\\site-packages (from trio~=0.17->selenium) (1.2.0)\n",
      "Requirement already satisfied: async-generator>=1.9 in c:\\users\\lenovo\\anaconda3\\lib\\site-packages (from trio~=0.17->selenium) (1.10)\n",
      "Requirement already satisfied: wsproto>=0.14 in c:\\users\\lenovo\\anaconda3\\lib\\site-packages (from trio-websocket~=0.9->selenium) (1.0.0)\n",
      "Requirement already satisfied: six>=1.5.2 in c:\\users\\lenovo\\anaconda3\\lib\\site-packages (from pyOpenSSL>=0.14; extra == \"secure\"->urllib3[secure]~=1.26->selenium) (1.15.0)\n",
      "Requirement already satisfied: pycparser in c:\\users\\lenovo\\anaconda3\\lib\\site-packages (from cffi>=1.14; os_name == \"nt\" and implementation_name != \"pypy\"->trio~=0.17->selenium) (2.20)\n",
      "Requirement already satisfied: h11<1,>=0.9.0 in c:\\users\\lenovo\\anaconda3\\lib\\site-packages (from wsproto>=0.14->trio-websocket~=0.9->selenium) (0.12.0)\n"
     ]
    }
   ],
   "source": [
    "!pip install selenium\n",
    "\n"
   ]
  },
  {
   "cell_type": "code",
   "execution_count": 4,
   "metadata": {},
   "outputs": [
    {
     "name": "stderr",
     "output_type": "stream",
     "text": [
      "C:\\Users\\Lenovo\\anaconda3\\lib\\site-packages\\requests\\__init__.py:89: RequestsDependencyWarning: urllib3 (1.26.6) or chardet (3.0.4) doesn't match a supported version!\n",
      "  warnings.warn(\"urllib3 ({}) or chardet ({}) doesn't match a supported \"\n"
     ]
    }
   ],
   "source": [
    "import selenium\n",
    "import pandas as pd\n",
    "from selenium import webdriver\n",
    "import undetected_chromedriver.v2 as uc"
   ]
  },
  {
   "cell_type": "code",
   "execution_count": 646,
   "metadata": {},
   "outputs": [
    {
     "data": {
      "text/plain": [
       "<selenium.webdriver.chrome.webdriver.WebDriver (session=\"41e37b7b77ff708bbe9377d58c4427ba\")>"
      ]
     },
     "execution_count": 646,
     "metadata": {},
     "output_type": "execute_result"
    }
   ],
   "source": [
    "driver=webdriver.Chrome(\"chromedriver.exe\")\n",
    "driver"
   ]
  },
  {
   "cell_type": "code",
   "execution_count": 647,
   "metadata": {},
   "outputs": [],
   "source": [
    "url = 'https://www.naukri.com/'\n",
    "driver.get(url)"
   ]
  },
  {
   "cell_type": "code",
   "execution_count": 648,
   "metadata": {},
   "outputs": [
    {
     "data": {
      "text/plain": [
       "<selenium.webdriver.remote.webelement.WebElement (session=\"41e37b7b77ff708bbe9377d58c4427ba\", element=\"6fa2b13a-99b7-45a6-a4ac-6c59113106bc\")>"
      ]
     },
     "execution_count": 648,
     "metadata": {},
     "output_type": "execute_result"
    }
   ],
   "source": [
    "Search_job1=driver.find_element_by_xpath('//input[@type=\"text\"]')\n",
    "Search_job1"
   ]
  },
  {
   "cell_type": "code",
   "execution_count": 649,
   "metadata": {},
   "outputs": [],
   "source": [
    "Search_job1.send_keys(\"Data Scientist\")"
   ]
  },
  {
   "cell_type": "code",
   "execution_count": 650,
   "metadata": {},
   "outputs": [
    {
     "data": {
      "text/plain": [
       "<selenium.webdriver.remote.webelement.WebElement (session=\"41e37b7b77ff708bbe9377d58c4427ba\", element=\"8429c5ad-08f9-4662-9718-2cdc668ca74e\")>"
      ]
     },
     "execution_count": 650,
     "metadata": {},
     "output_type": "execute_result"
    }
   ],
   "source": [
    "Search_button1=driver.find_element_by_xpath('//div[@class=\"search-btn\"]')\n",
    "Search_button1"
   ]
  },
  {
   "cell_type": "code",
   "execution_count": 651,
   "metadata": {},
   "outputs": [],
   "source": [
    "Search_button1.click()"
   ]
  },
  {
   "cell_type": "code",
   "execution_count": 652,
   "metadata": {},
   "outputs": [
    {
     "data": {
      "text/plain": [
       "<selenium.webdriver.remote.webelement.WebElement (session=\"41e37b7b77ff708bbe9377d58c4427ba\", element=\"7852ce7b-733b-4d42-b790-a1077898d3c4\")>"
      ]
     },
     "execution_count": 652,
     "metadata": {},
     "output_type": "execute_result"
    }
   ],
   "source": [
    "Search_buttonn2=driver.find_element_by_xpath('//span[@title=\"Delhi / NCR\"]')\n",
    "Search_buttonn2"
   ]
  },
  {
   "cell_type": "code",
   "execution_count": 653,
   "metadata": {},
   "outputs": [
    {
     "data": {
      "text/plain": [
       "<selenium.webdriver.remote.webelement.WebElement (session=\"41e37b7b77ff708bbe9377d58c4427ba\", element=\"c08c9412-21f2-48c9-9de9-7d109eb96853\")>"
      ]
     },
     "execution_count": 653,
     "metadata": {},
     "output_type": "execute_result"
    }
   ],
   "source": [
    "Search_buttonn3=driver.find_element_by_xpath('//span[@title=\"0-3 Lakhs\"]')\n",
    "Search_buttonn3"
   ]
  },
  {
   "cell_type": "code",
   "execution_count": null,
   "metadata": {},
   "outputs": [],
   "source": [
    "# Question No=4"
   ]
  },
  {
   "cell_type": "code",
   "execution_count": 94,
   "metadata": {},
   "outputs": [
    {
     "data": {
      "text/plain": [
       "<selenium.webdriver.chrome.webdriver.WebDriver (session=\"e6b3161551b3a42e74e97a8e2a259c5d\")>"
      ]
     },
     "execution_count": 94,
     "metadata": {},
     "output_type": "execute_result"
    }
   ],
   "source": [
    "driver=webdriver.Chrome(\"chromedriver.exe\")\n",
    "driver"
   ]
  },
  {
   "cell_type": "code",
   "execution_count": 95,
   "metadata": {},
   "outputs": [],
   "source": [
    "glassurl = 'https://www.glassdoor.co.in/member/home/index.htm'\n",
    "driver.get(glassurl)"
   ]
  },
  {
   "cell_type": "code",
   "execution_count": 96,
   "metadata": {},
   "outputs": [
    {
     "data": {
      "text/plain": [
       "<selenium.webdriver.remote.webelement.WebElement (session=\"e6b3161551b3a42e74e97a8e2a259c5d\", element=\"e33702cf-8f80-4848-adae-9927c7a8c414\")>"
      ]
     },
     "execution_count": 96,
     "metadata": {},
     "output_type": "execute_result"
    }
   ],
   "source": [
    "glass_job1=driver.find_element_by_xpath('//input[@type=\"text\"]')\n",
    "glass_job1"
   ]
  },
  {
   "cell_type": "code",
   "execution_count": 97,
   "metadata": {},
   "outputs": [],
   "source": [
    "glass_job1.send_keys(\"Data Scientist\")"
   ]
  },
  {
   "cell_type": "code",
   "execution_count": 98,
   "metadata": {},
   "outputs": [
    {
     "data": {
      "text/plain": [
       "<selenium.webdriver.remote.webelement.WebElement (session=\"e6b3161551b3a42e74e97a8e2a259c5d\", element=\"8857c815-0c65-4a98-9f03-79add10d2a17\")>"
      ]
     },
     "execution_count": 98,
     "metadata": {},
     "output_type": "execute_result"
    }
   ],
   "source": [
    "glass_location1=driver.find_element_by_id(\"sc.location\")\n",
    "glass_location1"
   ]
  },
  {
   "cell_type": "code",
   "execution_count": 99,
   "metadata": {},
   "outputs": [],
   "source": [
    "glass_location1.send_keys('Noida')"
   ]
  },
  {
   "cell_type": "code",
   "execution_count": 100,
   "metadata": {},
   "outputs": [
    {
     "data": {
      "text/plain": [
       "<selenium.webdriver.remote.webelement.WebElement (session=\"e6b3161551b3a42e74e97a8e2a259c5d\", element=\"0ebc1e02-2825-444c-b882-579b5437c7a8\")>"
      ]
     },
     "execution_count": 100,
     "metadata": {},
     "output_type": "execute_result"
    }
   ],
   "source": [
    "glass_button=driver.find_element_by_xpath('//span[@class=\"css-8zxfjs\"]')\n",
    "glass_button"
   ]
  },
  {
   "cell_type": "code",
   "execution_count": 101,
   "metadata": {},
   "outputs": [],
   "source": [
    "glass_button.click()"
   ]
  },
  {
   "cell_type": "code",
   "execution_count": 102,
   "metadata": {},
   "outputs": [
    {
     "data": {
      "text/plain": [
       "[<selenium.webdriver.remote.webelement.WebElement (session=\"e6b3161551b3a42e74e97a8e2a259c5d\", element=\"a7b7dca5-da92-40b5-9919-9df55c2aa739\")>,\n",
       " <selenium.webdriver.remote.webelement.WebElement (session=\"e6b3161551b3a42e74e97a8e2a259c5d\", element=\"37ae733f-22a3-4e0f-8933-9ba9c268ae52\")>,\n",
       " <selenium.webdriver.remote.webelement.WebElement (session=\"e6b3161551b3a42e74e97a8e2a259c5d\", element=\"c31204a2-781c-4bf9-8e72-e31b1dddd9ad\")>,\n",
       " <selenium.webdriver.remote.webelement.WebElement (session=\"e6b3161551b3a42e74e97a8e2a259c5d\", element=\"b576626a-cb5f-4db7-9203-24877c815ede\")>,\n",
       " <selenium.webdriver.remote.webelement.WebElement (session=\"e6b3161551b3a42e74e97a8e2a259c5d\", element=\"e92abd2c-75bc-41f6-85d8-ac35dd4cf6da\")>,\n",
       " <selenium.webdriver.remote.webelement.WebElement (session=\"e6b3161551b3a42e74e97a8e2a259c5d\", element=\"4b8a02b4-b023-4235-9a3b-54973f938ba5\")>,\n",
       " <selenium.webdriver.remote.webelement.WebElement (session=\"e6b3161551b3a42e74e97a8e2a259c5d\", element=\"7521cb02-cc24-4be7-be28-506b8fa682b8\")>,\n",
       " <selenium.webdriver.remote.webelement.WebElement (session=\"e6b3161551b3a42e74e97a8e2a259c5d\", element=\"8ea99dc7-8265-4b73-9855-637d74996d08\")>,\n",
       " <selenium.webdriver.remote.webelement.WebElement (session=\"e6b3161551b3a42e74e97a8e2a259c5d\", element=\"ad60b52f-b16b-4c35-aa72-7602dcc38ecb\")>,\n",
       " <selenium.webdriver.remote.webelement.WebElement (session=\"e6b3161551b3a42e74e97a8e2a259c5d\", element=\"155f570a-f36b-48eb-a903-75260a8d14fa\")>,\n",
       " <selenium.webdriver.remote.webelement.WebElement (session=\"e6b3161551b3a42e74e97a8e2a259c5d\", element=\"7749aff8-4112-4028-8d7e-864bbd0feacd\")>,\n",
       " <selenium.webdriver.remote.webelement.WebElement (session=\"e6b3161551b3a42e74e97a8e2a259c5d\", element=\"427e74dc-8521-43c8-81ef-8350e860b3f0\")>,\n",
       " <selenium.webdriver.remote.webelement.WebElement (session=\"e6b3161551b3a42e74e97a8e2a259c5d\", element=\"3ae7c490-1d7a-4a10-ad14-70ac845b0686\")>,\n",
       " <selenium.webdriver.remote.webelement.WebElement (session=\"e6b3161551b3a42e74e97a8e2a259c5d\", element=\"d1a74177-747c-46a6-8cf4-ebc4e4b92822\")>,\n",
       " <selenium.webdriver.remote.webelement.WebElement (session=\"e6b3161551b3a42e74e97a8e2a259c5d\", element=\"96427414-b871-40bf-a352-661f01bd62d2\")>,\n",
       " <selenium.webdriver.remote.webelement.WebElement (session=\"e6b3161551b3a42e74e97a8e2a259c5d\", element=\"6db51c04-8560-40f0-a46e-8107732be122\")>,\n",
       " <selenium.webdriver.remote.webelement.WebElement (session=\"e6b3161551b3a42e74e97a8e2a259c5d\", element=\"47ba9d09-1577-4e17-b69e-54288be41146\")>,\n",
       " <selenium.webdriver.remote.webelement.WebElement (session=\"e6b3161551b3a42e74e97a8e2a259c5d\", element=\"5aade852-6bac-4d34-92b1-6aed2489e1f6\")>,\n",
       " <selenium.webdriver.remote.webelement.WebElement (session=\"e6b3161551b3a42e74e97a8e2a259c5d\", element=\"13c71ecd-0ca1-4d03-bf37-cfadddc2a89b\")>,\n",
       " <selenium.webdriver.remote.webelement.WebElement (session=\"e6b3161551b3a42e74e97a8e2a259c5d\", element=\"2f6d336f-3267-4013-a56a-38555c562ab0\")>,\n",
       " <selenium.webdriver.remote.webelement.WebElement (session=\"e6b3161551b3a42e74e97a8e2a259c5d\", element=\"21f17434-3525-4e8b-8c99-6a549b77921b\")>,\n",
       " <selenium.webdriver.remote.webelement.WebElement (session=\"e6b3161551b3a42e74e97a8e2a259c5d\", element=\"fe0cced9-3c25-4d9c-816a-ddbee78cdcee\")>,\n",
       " <selenium.webdriver.remote.webelement.WebElement (session=\"e6b3161551b3a42e74e97a8e2a259c5d\", element=\"b515b401-335d-4b22-bee2-f927ecb61ed1\")>,\n",
       " <selenium.webdriver.remote.webelement.WebElement (session=\"e6b3161551b3a42e74e97a8e2a259c5d\", element=\"fad421bf-76a4-45ba-b85a-3d5f07c15a9b\")>,\n",
       " <selenium.webdriver.remote.webelement.WebElement (session=\"e6b3161551b3a42e74e97a8e2a259c5d\", element=\"0475020e-dbce-4fc3-baf9-9509e680b479\")>,\n",
       " <selenium.webdriver.remote.webelement.WebElement (session=\"e6b3161551b3a42e74e97a8e2a259c5d\", element=\"286c5640-4c1b-4dd3-87ce-65add302f5e0\")>,\n",
       " <selenium.webdriver.remote.webelement.WebElement (session=\"e6b3161551b3a42e74e97a8e2a259c5d\", element=\"a183ccf8-9963-43bd-a186-7d311e6a4e9f\")>,\n",
       " <selenium.webdriver.remote.webelement.WebElement (session=\"e6b3161551b3a42e74e97a8e2a259c5d\", element=\"f67b5662-8602-41b2-b8f5-045005b860c6\")>,\n",
       " <selenium.webdriver.remote.webelement.WebElement (session=\"e6b3161551b3a42e74e97a8e2a259c5d\", element=\"da5acf4c-3421-4945-96b7-68e986bcb717\")>,\n",
       " <selenium.webdriver.remote.webelement.WebElement (session=\"e6b3161551b3a42e74e97a8e2a259c5d\", element=\"b3f1e85b-8ee3-408e-9141-5fc8dae82161\")>]"
      ]
     },
     "execution_count": 102,
     "metadata": {},
     "output_type": "execute_result"
    }
   ],
   "source": [
    "glass_title=driver.find_elements_by_xpath('//div[@class=\"d-flex justify-content-between align-items-start\"]')\n",
    "glass_title"
   ]
  },
  {
   "cell_type": "code",
   "execution_count": 103,
   "metadata": {},
   "outputs": [
    {
     "data": {
      "text/plain": [
       "['IBM',\n",
       " 'AlgoScale Technologies Private Limited',\n",
       " 'Noisy Lion',\n",
       " 'Liberin Technologies Private Limited',\n",
       " 'Grail Insights',\n",
       " 'Grail Insights',\n",
       " 'Salasar New Age Technologies',\n",
       " 'Techlive',\n",
       " 'Newgen Software',\n",
       " 'Lenskart',\n",
       " 'Genpact',\n",
       " 'Salasar New Age Technologies',\n",
       " 'Ericsson',\n",
       " 'Ishatva Management Solutions',\n",
       " 'Airtel India',\n",
       " 'NEC Opportunities',\n",
       " 'limeroad.com',\n",
       " 'ING',\n",
       " 'Crowe',\n",
       " 'Crypto Mize',\n",
       " 'Badatya Private Limited',\n",
       " 'SearchUrCollege',\n",
       " 'Saishaa Services',\n",
       " 'Emerging India Group',\n",
       " 'CSTEP',\n",
       " 'CRMNEXT',\n",
       " 'Biz2Credit Inc',\n",
       " 'OneAssist Consumer Solutions Private Limited',\n",
       " 'WishFin',\n",
       " 'Masters India Private Limited']"
      ]
     },
     "execution_count": 103,
     "metadata": {},
     "output_type": "execute_result"
    }
   ],
   "source": [
    "glass_title1 = []\n",
    "for i in glass_title:\n",
    "    glass_title1.append(i.text)\n",
    "        \n",
    "glass_title1"
   ]
  },
  {
   "cell_type": "code",
   "execution_count": 104,
   "metadata": {},
   "outputs": [
    {
     "data": {
      "text/plain": [
       "[<selenium.webdriver.remote.webelement.WebElement (session=\"e6b3161551b3a42e74e97a8e2a259c5d\", element=\"d647b025-04f3-4328-a479-8c6144f45abc\")>,\n",
       " <selenium.webdriver.remote.webelement.WebElement (session=\"e6b3161551b3a42e74e97a8e2a259c5d\", element=\"38f04b06-2754-4c89-a44d-e810b23b9382\")>,\n",
       " <selenium.webdriver.remote.webelement.WebElement (session=\"e6b3161551b3a42e74e97a8e2a259c5d\", element=\"240090f7-135f-4044-aff9-ee2eecff3e8c\")>,\n",
       " <selenium.webdriver.remote.webelement.WebElement (session=\"e6b3161551b3a42e74e97a8e2a259c5d\", element=\"328b9685-1cb1-4923-ac61-7838cced36a0\")>,\n",
       " <selenium.webdriver.remote.webelement.WebElement (session=\"e6b3161551b3a42e74e97a8e2a259c5d\", element=\"daccf871-6005-4ed6-b075-5702c3cd6f4a\")>,\n",
       " <selenium.webdriver.remote.webelement.WebElement (session=\"e6b3161551b3a42e74e97a8e2a259c5d\", element=\"8b546a42-491f-4d00-860f-f53bf081a29e\")>,\n",
       " <selenium.webdriver.remote.webelement.WebElement (session=\"e6b3161551b3a42e74e97a8e2a259c5d\", element=\"fa58fbad-7b0b-4105-8291-bc96c34a4497\")>,\n",
       " <selenium.webdriver.remote.webelement.WebElement (session=\"e6b3161551b3a42e74e97a8e2a259c5d\", element=\"b5463a01-236c-44a6-a3d1-c24bb312fca5\")>,\n",
       " <selenium.webdriver.remote.webelement.WebElement (session=\"e6b3161551b3a42e74e97a8e2a259c5d\", element=\"b52a2d47-dfc9-42ab-9386-94ed4914a0ee\")>,\n",
       " <selenium.webdriver.remote.webelement.WebElement (session=\"e6b3161551b3a42e74e97a8e2a259c5d\", element=\"eeb5dcb1-c5f0-490c-bffd-0088829fae06\")>,\n",
       " <selenium.webdriver.remote.webelement.WebElement (session=\"e6b3161551b3a42e74e97a8e2a259c5d\", element=\"fcffe98e-e3c0-4026-b575-f78be6b57010\")>,\n",
       " <selenium.webdriver.remote.webelement.WebElement (session=\"e6b3161551b3a42e74e97a8e2a259c5d\", element=\"57781d29-a774-4aa0-8152-dd214e6fb848\")>,\n",
       " <selenium.webdriver.remote.webelement.WebElement (session=\"e6b3161551b3a42e74e97a8e2a259c5d\", element=\"f4673785-1b52-470c-9026-6dbb0d71e756\")>,\n",
       " <selenium.webdriver.remote.webelement.WebElement (session=\"e6b3161551b3a42e74e97a8e2a259c5d\", element=\"e1ebaa0b-01f0-460d-b80a-76da8abcaf72\")>,\n",
       " <selenium.webdriver.remote.webelement.WebElement (session=\"e6b3161551b3a42e74e97a8e2a259c5d\", element=\"6cc830ee-a18e-4ee3-beeb-f0cb37bae0c7\")>,\n",
       " <selenium.webdriver.remote.webelement.WebElement (session=\"e6b3161551b3a42e74e97a8e2a259c5d\", element=\"21ba86c4-1a40-450e-a0c0-87723da8d16e\")>,\n",
       " <selenium.webdriver.remote.webelement.WebElement (session=\"e6b3161551b3a42e74e97a8e2a259c5d\", element=\"2997c48b-1a39-40de-844d-93d96ddce423\")>,\n",
       " <selenium.webdriver.remote.webelement.WebElement (session=\"e6b3161551b3a42e74e97a8e2a259c5d\", element=\"7a9b7163-4141-4898-935c-5d7b996edffe\")>,\n",
       " <selenium.webdriver.remote.webelement.WebElement (session=\"e6b3161551b3a42e74e97a8e2a259c5d\", element=\"949181d3-5ac2-4729-a162-60b2f1b92b39\")>,\n",
       " <selenium.webdriver.remote.webelement.WebElement (session=\"e6b3161551b3a42e74e97a8e2a259c5d\", element=\"ccf79f44-1498-42d4-a9c9-7c22d93cc3ce\")>,\n",
       " <selenium.webdriver.remote.webelement.WebElement (session=\"e6b3161551b3a42e74e97a8e2a259c5d\", element=\"fcc114e5-906e-40d3-acc4-efc15ac99e93\")>,\n",
       " <selenium.webdriver.remote.webelement.WebElement (session=\"e6b3161551b3a42e74e97a8e2a259c5d\", element=\"e96240ba-65ab-42b9-bbe1-76e31f4e2e18\")>,\n",
       " <selenium.webdriver.remote.webelement.WebElement (session=\"e6b3161551b3a42e74e97a8e2a259c5d\", element=\"9228b7e3-6465-46bb-af9f-906a0bd8d8c4\")>,\n",
       " <selenium.webdriver.remote.webelement.WebElement (session=\"e6b3161551b3a42e74e97a8e2a259c5d\", element=\"b0392f7c-bdff-415c-831e-0ed5f069ac21\")>,\n",
       " <selenium.webdriver.remote.webelement.WebElement (session=\"e6b3161551b3a42e74e97a8e2a259c5d\", element=\"0db38b8e-e46d-4467-af81-64d4750cb6f1\")>,\n",
       " <selenium.webdriver.remote.webelement.WebElement (session=\"e6b3161551b3a42e74e97a8e2a259c5d\", element=\"88bbd5be-ffc2-47ed-9e33-84cede0da92f\")>,\n",
       " <selenium.webdriver.remote.webelement.WebElement (session=\"e6b3161551b3a42e74e97a8e2a259c5d\", element=\"62cce6c9-d17d-4038-b5b0-6bf4bf3d1707\")>,\n",
       " <selenium.webdriver.remote.webelement.WebElement (session=\"e6b3161551b3a42e74e97a8e2a259c5d\", element=\"2a4a6717-8d18-42c6-aa0a-6ead0cb21d2e\")>,\n",
       " <selenium.webdriver.remote.webelement.WebElement (session=\"e6b3161551b3a42e74e97a8e2a259c5d\", element=\"04b5ae46-e992-4bda-aaa6-b62bf0407f24\")>,\n",
       " <selenium.webdriver.remote.webelement.WebElement (session=\"e6b3161551b3a42e74e97a8e2a259c5d\", element=\"9f3cf2b0-c2db-4bd7-b5e4-ee8b2e5aa052\")>]"
      ]
     },
     "execution_count": 104,
     "metadata": {},
     "output_type": "execute_result"
    }
   ],
   "source": [
    "glass_day=driver.find_elements_by_xpath('//div[@class=\"d-flex align-items-end pl-std css-17n8uzw\"]')\n",
    "glass_day"
   ]
  },
  {
   "cell_type": "code",
   "execution_count": 105,
   "metadata": {},
   "outputs": [
    {
     "data": {
      "text/plain": [
       "['24h',\n",
       " '16d',\n",
       " '2d',\n",
       " '30d+',\n",
       " '2d',\n",
       " '2d',\n",
       " '30d+',\n",
       " '30d+',\n",
       " '30d+',\n",
       " '4d',\n",
       " '4d',\n",
       " '30d+',\n",
       " '9d',\n",
       " '12d',\n",
       " '22d',\n",
       " '23d',\n",
       " '16d',\n",
       " '8d',\n",
       " '30d+',\n",
       " '24d',\n",
       " '13d',\n",
       " '30d+',\n",
       " '18d',\n",
       " '30d+',\n",
       " '30d+',\n",
       " '30d+',\n",
       " '30d+',\n",
       " '2d',\n",
       " '30d+',\n",
       " '24h']"
      ]
     },
     "execution_count": 105,
     "metadata": {},
     "output_type": "execute_result"
    }
   ],
   "source": [
    "glass_day1 = []\n",
    "for i in glass_day:\n",
    "    glass_day1.append(i.text)\n",
    "        \n",
    "glass_day1"
   ]
  },
  {
   "cell_type": "code",
   "execution_count": 106,
   "metadata": {},
   "outputs": [
    {
     "data": {
      "text/plain": [
       "[<selenium.webdriver.remote.webelement.WebElement (session=\"e6b3161551b3a42e74e97a8e2a259c5d\", element=\"e81e2e53-acff-4ad7-9f57-2af299bdf95d\")>,\n",
       " <selenium.webdriver.remote.webelement.WebElement (session=\"e6b3161551b3a42e74e97a8e2a259c5d\", element=\"8a61ba6e-f446-4bad-9b09-46ad4eb5d495\")>,\n",
       " <selenium.webdriver.remote.webelement.WebElement (session=\"e6b3161551b3a42e74e97a8e2a259c5d\", element=\"a47ee21a-ce8d-47fe-81ad-d3ec32a2336a\")>,\n",
       " <selenium.webdriver.remote.webelement.WebElement (session=\"e6b3161551b3a42e74e97a8e2a259c5d\", element=\"a92c2163-35b3-4c58-a6d7-4e3116ac5956\")>,\n",
       " <selenium.webdriver.remote.webelement.WebElement (session=\"e6b3161551b3a42e74e97a8e2a259c5d\", element=\"38801295-4b52-40d3-a7e9-e4c168d67033\")>,\n",
       " <selenium.webdriver.remote.webelement.WebElement (session=\"e6b3161551b3a42e74e97a8e2a259c5d\", element=\"535e7050-8d20-4fe7-b2e2-efbbae342f8f\")>,\n",
       " <selenium.webdriver.remote.webelement.WebElement (session=\"e6b3161551b3a42e74e97a8e2a259c5d\", element=\"e60373a4-961c-439b-adfb-fe398de3daa5\")>,\n",
       " <selenium.webdriver.remote.webelement.WebElement (session=\"e6b3161551b3a42e74e97a8e2a259c5d\", element=\"01d35414-b438-40f0-a6a7-3ad381513540\")>,\n",
       " <selenium.webdriver.remote.webelement.WebElement (session=\"e6b3161551b3a42e74e97a8e2a259c5d\", element=\"3f60b53c-1661-4290-9828-5159e72f68c8\")>,\n",
       " <selenium.webdriver.remote.webelement.WebElement (session=\"e6b3161551b3a42e74e97a8e2a259c5d\", element=\"37e40b95-b39a-400a-9fa6-67ac993978b5\")>,\n",
       " <selenium.webdriver.remote.webelement.WebElement (session=\"e6b3161551b3a42e74e97a8e2a259c5d\", element=\"7df6d2a1-1fb4-4c49-8523-bc2ea614f607\")>,\n",
       " <selenium.webdriver.remote.webelement.WebElement (session=\"e6b3161551b3a42e74e97a8e2a259c5d\", element=\"55c1d0e1-0b28-42bf-afb4-b1f7b239863f\")>,\n",
       " <selenium.webdriver.remote.webelement.WebElement (session=\"e6b3161551b3a42e74e97a8e2a259c5d\", element=\"8c231e00-716d-48e4-b827-c8f8a4453177\")>,\n",
       " <selenium.webdriver.remote.webelement.WebElement (session=\"e6b3161551b3a42e74e97a8e2a259c5d\", element=\"39df99e1-ced9-4e99-923d-2eb431bdb686\")>,\n",
       " <selenium.webdriver.remote.webelement.WebElement (session=\"e6b3161551b3a42e74e97a8e2a259c5d\", element=\"95217f2a-3798-4eec-8acb-e8c2665e021d\")>,\n",
       " <selenium.webdriver.remote.webelement.WebElement (session=\"e6b3161551b3a42e74e97a8e2a259c5d\", element=\"eadaeea8-9401-40a5-8cba-49785ecb18d9\")>,\n",
       " <selenium.webdriver.remote.webelement.WebElement (session=\"e6b3161551b3a42e74e97a8e2a259c5d\", element=\"f3764a55-7670-471c-a758-3772aa1ecd37\")>,\n",
       " <selenium.webdriver.remote.webelement.WebElement (session=\"e6b3161551b3a42e74e97a8e2a259c5d\", element=\"6bc354e4-c138-4953-b1ce-2f0b441772f0\")>,\n",
       " <selenium.webdriver.remote.webelement.WebElement (session=\"e6b3161551b3a42e74e97a8e2a259c5d\", element=\"7bbd5819-cb9e-4511-b751-1e7ec0770f34\")>,\n",
       " <selenium.webdriver.remote.webelement.WebElement (session=\"e6b3161551b3a42e74e97a8e2a259c5d\", element=\"861cfe77-dfe2-47e0-be38-2f48a7495a9e\")>]"
      ]
     },
     "execution_count": 106,
     "metadata": {},
     "output_type": "execute_result"
    }
   ],
   "source": [
    "glass_rating=driver.find_elements_by_xpath('//span[@class=\" job-search-key-srfzj0 e1cjmv6j0\"]')\n",
    "glass_rating"
   ]
  },
  {
   "cell_type": "code",
   "execution_count": 107,
   "metadata": {},
   "outputs": [
    {
     "data": {
      "text/plain": [
       "['3.9',\n",
       " '3.9',\n",
       " '3.5',\n",
       " '3.5',\n",
       " '3.3',\n",
       " '3.6',\n",
       " '3.8',\n",
       " '4.1',\n",
       " '3.8',\n",
       " '4.0',\n",
       " '3.8',\n",
       " '5.0',\n",
       " '4.5',\n",
       " '2.4',\n",
       " '3.2',\n",
       " '3.7',\n",
       " '4.2',\n",
       " '3.6',\n",
       " '3.8',\n",
       " '3.9']"
      ]
     },
     "execution_count": 107,
     "metadata": {},
     "output_type": "execute_result"
    }
   ],
   "source": [
    "glass_rating1 = []\n",
    "for i in glass_rating:\n",
    "    glass_rating1.append(i.text)\n",
    "        \n",
    "glass_rating1"
   ]
  },
  {
   "cell_type": "code",
   "execution_count": 108,
   "metadata": {},
   "outputs": [
    {
     "data": {
      "text/html": [
       "<div>\n",
       "<style scoped>\n",
       "    .dataframe tbody tr th:only-of-type {\n",
       "        vertical-align: middle;\n",
       "    }\n",
       "\n",
       "    .dataframe tbody tr th {\n",
       "        vertical-align: top;\n",
       "    }\n",
       "\n",
       "    .dataframe thead th {\n",
       "        text-align: right;\n",
       "    }\n",
       "</style>\n",
       "<table border=\"1\" class=\"dataframe\">\n",
       "  <thead>\n",
       "    <tr style=\"text-align: right;\">\n",
       "      <th></th>\n",
       "      <th>glasstitle</th>\n",
       "      <th>glassdays</th>\n",
       "      <th>glassrating</th>\n",
       "    </tr>\n",
       "  </thead>\n",
       "  <tbody>\n",
       "    <tr>\n",
       "      <th>0</th>\n",
       "      <td>IBM</td>\n",
       "      <td>24h</td>\n",
       "      <td>3.9</td>\n",
       "    </tr>\n",
       "    <tr>\n",
       "      <th>1</th>\n",
       "      <td>AlgoScale Technologies Private Limited</td>\n",
       "      <td>16d</td>\n",
       "      <td>3.9</td>\n",
       "    </tr>\n",
       "    <tr>\n",
       "      <th>2</th>\n",
       "      <td>Noisy Lion</td>\n",
       "      <td>2d</td>\n",
       "      <td>3.5</td>\n",
       "    </tr>\n",
       "    <tr>\n",
       "      <th>3</th>\n",
       "      <td>Liberin Technologies Private Limited</td>\n",
       "      <td>30d+</td>\n",
       "      <td>3.5</td>\n",
       "    </tr>\n",
       "    <tr>\n",
       "      <th>4</th>\n",
       "      <td>Grail Insights</td>\n",
       "      <td>2d</td>\n",
       "      <td>3.3</td>\n",
       "    </tr>\n",
       "    <tr>\n",
       "      <th>5</th>\n",
       "      <td>Grail Insights</td>\n",
       "      <td>2d</td>\n",
       "      <td>3.6</td>\n",
       "    </tr>\n",
       "    <tr>\n",
       "      <th>6</th>\n",
       "      <td>Salasar New Age Technologies</td>\n",
       "      <td>30d+</td>\n",
       "      <td>3.8</td>\n",
       "    </tr>\n",
       "    <tr>\n",
       "      <th>7</th>\n",
       "      <td>Techlive</td>\n",
       "      <td>30d+</td>\n",
       "      <td>4.1</td>\n",
       "    </tr>\n",
       "    <tr>\n",
       "      <th>8</th>\n",
       "      <td>Newgen Software</td>\n",
       "      <td>30d+</td>\n",
       "      <td>3.8</td>\n",
       "    </tr>\n",
       "    <tr>\n",
       "      <th>9</th>\n",
       "      <td>Lenskart</td>\n",
       "      <td>4d</td>\n",
       "      <td>4.0</td>\n",
       "    </tr>\n",
       "  </tbody>\n",
       "</table>\n",
       "</div>"
      ],
      "text/plain": [
       "                               glasstitle glassdays glassrating\n",
       "0                                     IBM       24h         3.9\n",
       "1  AlgoScale Technologies Private Limited       16d         3.9\n",
       "2                              Noisy Lion        2d         3.5\n",
       "3    Liberin Technologies Private Limited      30d+         3.5\n",
       "4                          Grail Insights        2d         3.3\n",
       "5                          Grail Insights        2d         3.6\n",
       "6            Salasar New Age Technologies      30d+         3.8\n",
       "7                                Techlive      30d+         4.1\n",
       "8                         Newgen Software      30d+         3.8\n",
       "9                                Lenskart        4d         4.0"
      ]
     },
     "execution_count": 108,
     "metadata": {},
     "output_type": "execute_result"
    }
   ],
   "source": [
    "glassdata=pd.DataFrame({})\n",
    "glassdata['glasstitle']=glass_title1[0:10]\n",
    "glassdata['glassdays']=glass_day1[0:10]\n",
    "glassdata['glassrating']=glass_rating1[0:10]\n",
    "glassdata\n"
   ]
  },
  {
   "cell_type": "code",
   "execution_count": null,
   "metadata": {},
   "outputs": [],
   "source": [
    "# Question No=5"
   ]
  },
  {
   "cell_type": "code",
   "execution_count": 146,
   "metadata": {},
   "outputs": [
    {
     "data": {
      "text/plain": [
       "<selenium.webdriver.chrome.webdriver.WebDriver (session=\"b3e4f7d809f0f73b0b0ab3c3ce86f565\")>"
      ]
     },
     "execution_count": 146,
     "metadata": {},
     "output_type": "execute_result"
    }
   ],
   "source": [
    "driver=webdriver.Chrome(\"chromedriver.exe\")\n",
    "driver"
   ]
  },
  {
   "cell_type": "code",
   "execution_count": 147,
   "metadata": {},
   "outputs": [],
   "source": [
    "glassurl = 'https://www.glassdoor.co.in/member/home/index.htm'\n",
    "driver.get(glassurl)"
   ]
  },
  {
   "cell_type": "code",
   "execution_count": 148,
   "metadata": {},
   "outputs": [
    {
     "data": {
      "text/plain": [
       "<selenium.webdriver.remote.webelement.WebElement (session=\"b3e4f7d809f0f73b0b0ab3c3ce86f565\", element=\"09dafaf6-f33b-4ca3-833a-f708baede942\")>"
      ]
     },
     "execution_count": 148,
     "metadata": {},
     "output_type": "execute_result"
    }
   ],
   "source": [
    "glass_job1=driver.find_element_by_xpath('//input[@type=\"text\"]')\n",
    "glass_job1"
   ]
  },
  {
   "cell_type": "code",
   "execution_count": 149,
   "metadata": {},
   "outputs": [],
   "source": [
    "glass_job1.send_keys(\"Data Scientist\")"
   ]
  },
  {
   "cell_type": "code",
   "execution_count": 150,
   "metadata": {},
   "outputs": [
    {
     "data": {
      "text/plain": [
       "<selenium.webdriver.remote.webelement.WebElement (session=\"b3e4f7d809f0f73b0b0ab3c3ce86f565\", element=\"fdb194d0-edfc-42e3-aecd-cfb00c66b0e8\")>"
      ]
     },
     "execution_count": 150,
     "metadata": {},
     "output_type": "execute_result"
    }
   ],
   "source": [
    "glass_location1=driver.find_element_by_id(\"sc.location\")\n",
    "glass_location1"
   ]
  },
  {
   "cell_type": "code",
   "execution_count": 151,
   "metadata": {},
   "outputs": [],
   "source": [
    "glass_location1.send_keys('Noida')"
   ]
  },
  {
   "cell_type": "code",
   "execution_count": 152,
   "metadata": {},
   "outputs": [
    {
     "data": {
      "text/plain": [
       "<selenium.webdriver.remote.webelement.WebElement (session=\"b3e4f7d809f0f73b0b0ab3c3ce86f565\", element=\"40b66304-fb98-4ff6-b8ba-860a3ff2d2b2\")>"
      ]
     },
     "execution_count": 152,
     "metadata": {},
     "output_type": "execute_result"
    }
   ],
   "source": [
    "glass_button=driver.find_element_by_xpath('//span[@class=\"css-8zxfjs\"]')\n",
    "glass_button"
   ]
  },
  {
   "cell_type": "code",
   "execution_count": 153,
   "metadata": {},
   "outputs": [],
   "source": [
    "glass_button.click()"
   ]
  },
  {
   "cell_type": "code",
   "execution_count": 156,
   "metadata": {},
   "outputs": [
    {
     "data": {
      "text/plain": [
       "<selenium.webdriver.remote.webelement.WebElement (session=\"b3e4f7d809f0f73b0b0ab3c3ce86f565\", element=\"fbc86f6c-76a8-4dab-ad4e-270fffd5704a\")>"
      ]
     },
     "execution_count": 156,
     "metadata": {},
     "output_type": "execute_result"
    }
   ],
   "source": [
    "glass_button1=driver.find_element_by_xpath('//b[@class=\"col\"]')\n",
    "glass_button1"
   ]
  },
  {
   "cell_type": "code",
   "execution_count": 157,
   "metadata": {},
   "outputs": [],
   "source": [
    "glass_button1.click()"
   ]
  },
  {
   "cell_type": "code",
   "execution_count": 158,
   "metadata": {},
   "outputs": [
    {
     "data": {
      "text/plain": [
       "<selenium.webdriver.remote.webelement.WebElement (session=\"b3e4f7d809f0f73b0b0ab3c3ce86f565\", element=\"f5605b0b-a343-46d7-9bb5-98a446990b48\")>"
      ]
     },
     "execution_count": 158,
     "metadata": {},
     "output_type": "execute_result"
    }
   ],
   "source": [
    "glass_job2=driver.find_element_by_xpath('//input[@type=\"text\"]')\n",
    "glass_job2"
   ]
  },
  {
   "cell_type": "code",
   "execution_count": 159,
   "metadata": {},
   "outputs": [],
   "source": [
    "glass_job2.send_keys(\"Data Scientist\")"
   ]
  },
  {
   "cell_type": "code",
   "execution_count": 160,
   "metadata": {},
   "outputs": [
    {
     "data": {
      "text/plain": [
       "<selenium.webdriver.remote.webelement.WebElement (session=\"b3e4f7d809f0f73b0b0ab3c3ce86f565\", element=\"b3f13745-2e82-43ae-bad1-5448712a96aa\")>"
      ]
     },
     "execution_count": 160,
     "metadata": {},
     "output_type": "execute_result"
    }
   ],
   "source": [
    "glass_location2=driver.find_element_by_id(\"LocationSearch\")\n",
    "glass_location2"
   ]
  },
  {
   "cell_type": "code",
   "execution_count": 161,
   "metadata": {},
   "outputs": [],
   "source": [
    "glass_location2.send_keys('Noida')"
   ]
  },
  {
   "cell_type": "code",
   "execution_count": 162,
   "metadata": {},
   "outputs": [
    {
     "data": {
      "text/plain": [
       "<selenium.webdriver.remote.webelement.WebElement (session=\"b3e4f7d809f0f73b0b0ab3c3ce86f565\", element=\"70ed7479-537a-4658-97bc-b4dd9a08043a\")>"
      ]
     },
     "execution_count": 162,
     "metadata": {},
     "output_type": "execute_result"
    }
   ],
   "source": [
    "glass_button2=driver.find_element_by_xpath('//button[@class=\"gd-btn-mkt\"]')\n",
    "glass_button2"
   ]
  },
  {
   "cell_type": "code",
   "execution_count": 163,
   "metadata": {},
   "outputs": [],
   "source": [
    "glass_button2.click()"
   ]
  },
  {
   "cell_type": "code",
   "execution_count": 164,
   "metadata": {},
   "outputs": [
    {
     "data": {
      "text/plain": [
       "[<selenium.webdriver.remote.webelement.WebElement (session=\"b3e4f7d809f0f73b0b0ab3c3ce86f565\", element=\"7102ea7c-8508-4395-8c18-fc7ed765a271\")>,\n",
       " <selenium.webdriver.remote.webelement.WebElement (session=\"b3e4f7d809f0f73b0b0ab3c3ce86f565\", element=\"8daf2251-bed8-4110-b7ef-4bef3db4f1ff\")>,\n",
       " <selenium.webdriver.remote.webelement.WebElement (session=\"b3e4f7d809f0f73b0b0ab3c3ce86f565\", element=\"7ada4f2f-02e4-4a07-bc57-b4ce10f7d3c9\")>,\n",
       " <selenium.webdriver.remote.webelement.WebElement (session=\"b3e4f7d809f0f73b0b0ab3c3ce86f565\", element=\"4820703c-95a6-437d-9232-42252a39bc88\")>,\n",
       " <selenium.webdriver.remote.webelement.WebElement (session=\"b3e4f7d809f0f73b0b0ab3c3ce86f565\", element=\"e9d5bd8b-4d6d-4e00-9ccd-796115f3ace4\")>,\n",
       " <selenium.webdriver.remote.webelement.WebElement (session=\"b3e4f7d809f0f73b0b0ab3c3ce86f565\", element=\"828166ac-f1f7-4733-84ad-5fc15c2051d7\")>,\n",
       " <selenium.webdriver.remote.webelement.WebElement (session=\"b3e4f7d809f0f73b0b0ab3c3ce86f565\", element=\"6ef801d9-32aa-4711-a924-63fc6fade23f\")>,\n",
       " <selenium.webdriver.remote.webelement.WebElement (session=\"b3e4f7d809f0f73b0b0ab3c3ce86f565\", element=\"89fb1d39-d0ae-40b1-998c-62a60d746156\")>,\n",
       " <selenium.webdriver.remote.webelement.WebElement (session=\"b3e4f7d809f0f73b0b0ab3c3ce86f565\", element=\"a4fc4c22-8d20-4d41-a30a-56906378c6a7\")>,\n",
       " <selenium.webdriver.remote.webelement.WebElement (session=\"b3e4f7d809f0f73b0b0ab3c3ce86f565\", element=\"6150c7f8-712e-4bd0-a0b5-b6d1602987d1\")>,\n",
       " <selenium.webdriver.remote.webelement.WebElement (session=\"b3e4f7d809f0f73b0b0ab3c3ce86f565\", element=\"4d1a30b4-cdec-4f95-a070-585195f671e0\")>,\n",
       " <selenium.webdriver.remote.webelement.WebElement (session=\"b3e4f7d809f0f73b0b0ab3c3ce86f565\", element=\"c395f322-5514-4ec0-851d-41c91f553bb5\")>,\n",
       " <selenium.webdriver.remote.webelement.WebElement (session=\"b3e4f7d809f0f73b0b0ab3c3ce86f565\", element=\"3fa6a5cb-823d-41ad-add4-f05c9be4a048\")>,\n",
       " <selenium.webdriver.remote.webelement.WebElement (session=\"b3e4f7d809f0f73b0b0ab3c3ce86f565\", element=\"e0fbb7f8-5a51-4174-9925-2399326384f6\")>,\n",
       " <selenium.webdriver.remote.webelement.WebElement (session=\"b3e4f7d809f0f73b0b0ab3c3ce86f565\", element=\"fd492f4f-4d47-4b52-abd2-7d005ed3aac6\")>,\n",
       " <selenium.webdriver.remote.webelement.WebElement (session=\"b3e4f7d809f0f73b0b0ab3c3ce86f565\", element=\"74ea66de-0461-4878-88db-53cbfd255a60\")>,\n",
       " <selenium.webdriver.remote.webelement.WebElement (session=\"b3e4f7d809f0f73b0b0ab3c3ce86f565\", element=\"00a05f8e-c10e-4062-87f4-817c4c1c3c1a\")>,\n",
       " <selenium.webdriver.remote.webelement.WebElement (session=\"b3e4f7d809f0f73b0b0ab3c3ce86f565\", element=\"98e6a252-6f01-4d6a-8954-4b59377c612a\")>,\n",
       " <selenium.webdriver.remote.webelement.WebElement (session=\"b3e4f7d809f0f73b0b0ab3c3ce86f565\", element=\"bcba5490-ea82-4ef0-bb48-f0c6b8753c73\")>,\n",
       " <selenium.webdriver.remote.webelement.WebElement (session=\"b3e4f7d809f0f73b0b0ab3c3ce86f565\", element=\"79500a7b-a1ff-4caf-bbc9-e6943c65e111\")>]"
      ]
     },
     "execution_count": 164,
     "metadata": {},
     "output_type": "execute_result"
    }
   ],
   "source": [
    "glass_name=driver.find_elements_by_xpath('//a[@class=\"css-f3vw95 e1aj7ssy3\"]')\n",
    "glass_name"
   ]
  },
  {
   "cell_type": "code",
   "execution_count": 165,
   "metadata": {},
   "outputs": [
    {
     "data": {
      "text/plain": [
       "['Tata Consultancy Services',\n",
       " 'IBM',\n",
       " 'Accenture',\n",
       " 'Delhivery',\n",
       " 'Ericsson-Worldwide',\n",
       " 'UnitedHealth Group',\n",
       " 'Optum',\n",
       " 'Optum Global Solutions',\n",
       " 'Valiance Solutions',\n",
       " 'EXL Service',\n",
       " 'Cognizant Technology Solutions',\n",
       " 'ZS Associates',\n",
       " 'Nagarro',\n",
       " 'Innovaccer',\n",
       " 'OYO',\n",
       " 'dunnhumby',\n",
       " 'Amazon',\n",
       " 'CARS24.com',\n",
       " 'Vidooly Media Tech',\n",
       " 'ParallelDots']"
      ]
     },
     "execution_count": 165,
     "metadata": {},
     "output_type": "execute_result"
    }
   ],
   "source": [
    "glass_name1 = []\n",
    "for i in glass_name:\n",
    "    glass_name1.append(i.text)\n",
    "        \n",
    "glass_name1"
   ]
  },
  {
   "cell_type": "code",
   "execution_count": 182,
   "metadata": {},
   "outputs": [
    {
     "data": {
      "text/plain": [
       "[<selenium.webdriver.remote.webelement.WebElement (session=\"b3e4f7d809f0f73b0b0ab3c3ce86f565\", element=\"97c33d98-3848-42c5-b6fd-26c16851b2fe\")>,\n",
       " <selenium.webdriver.remote.webelement.WebElement (session=\"b3e4f7d809f0f73b0b0ab3c3ce86f565\", element=\"a957f983-f0b3-4cb1-b3ec-d9a1f11a9c00\")>,\n",
       " <selenium.webdriver.remote.webelement.WebElement (session=\"b3e4f7d809f0f73b0b0ab3c3ce86f565\", element=\"e5d92547-4b34-4c3a-8053-f854989bf139\")>,\n",
       " <selenium.webdriver.remote.webelement.WebElement (session=\"b3e4f7d809f0f73b0b0ab3c3ce86f565\", element=\"81fe0169-75d5-4f43-9ac2-4ab33c91b7fb\")>,\n",
       " <selenium.webdriver.remote.webelement.WebElement (session=\"b3e4f7d809f0f73b0b0ab3c3ce86f565\", element=\"28ce4c4c-1817-4a3c-a75d-b600e3ec7776\")>,\n",
       " <selenium.webdriver.remote.webelement.WebElement (session=\"b3e4f7d809f0f73b0b0ab3c3ce86f565\", element=\"280d2795-24de-4b79-808c-8f2eb2e714b2\")>,\n",
       " <selenium.webdriver.remote.webelement.WebElement (session=\"b3e4f7d809f0f73b0b0ab3c3ce86f565\", element=\"534226a1-6f2b-403c-91ef-1304e51f212c\")>,\n",
       " <selenium.webdriver.remote.webelement.WebElement (session=\"b3e4f7d809f0f73b0b0ab3c3ce86f565\", element=\"f20642e6-ab1d-426d-bfc8-5f7bdc67b7fd\")>,\n",
       " <selenium.webdriver.remote.webelement.WebElement (session=\"b3e4f7d809f0f73b0b0ab3c3ce86f565\", element=\"87d291d5-c59c-47f4-bd88-58968e8059cc\")>,\n",
       " <selenium.webdriver.remote.webelement.WebElement (session=\"b3e4f7d809f0f73b0b0ab3c3ce86f565\", element=\"fd34aeb5-34b2-40e3-8b73-1c0b705670ee\")>,\n",
       " <selenium.webdriver.remote.webelement.WebElement (session=\"b3e4f7d809f0f73b0b0ab3c3ce86f565\", element=\"bf486212-a2f3-419d-9000-7b816c9d99b8\")>,\n",
       " <selenium.webdriver.remote.webelement.WebElement (session=\"b3e4f7d809f0f73b0b0ab3c3ce86f565\", element=\"b786fe0e-b1f6-4f1e-8b36-7c35adf730f6\")>,\n",
       " <selenium.webdriver.remote.webelement.WebElement (session=\"b3e4f7d809f0f73b0b0ab3c3ce86f565\", element=\"b3ba8f02-8d44-45f6-8c58-f3f85dff1a42\")>,\n",
       " <selenium.webdriver.remote.webelement.WebElement (session=\"b3e4f7d809f0f73b0b0ab3c3ce86f565\", element=\"84c4949e-09ea-4da7-9031-5605128258fe\")>,\n",
       " <selenium.webdriver.remote.webelement.WebElement (session=\"b3e4f7d809f0f73b0b0ab3c3ce86f565\", element=\"838342c6-db71-42bb-bdeb-eabceff4e4f9\")>,\n",
       " <selenium.webdriver.remote.webelement.WebElement (session=\"b3e4f7d809f0f73b0b0ab3c3ce86f565\", element=\"da0dd72f-c697-4969-800d-971b1ba57248\")>,\n",
       " <selenium.webdriver.remote.webelement.WebElement (session=\"b3e4f7d809f0f73b0b0ab3c3ce86f565\", element=\"e0a27782-95de-4873-a6bc-6331c06bef19\")>,\n",
       " <selenium.webdriver.remote.webelement.WebElement (session=\"b3e4f7d809f0f73b0b0ab3c3ce86f565\", element=\"7421545d-a2d9-4fb5-ac3f-7b2c5832d587\")>,\n",
       " <selenium.webdriver.remote.webelement.WebElement (session=\"b3e4f7d809f0f73b0b0ab3c3ce86f565\", element=\"92b54a00-69f8-41a0-b286-5de95d436e77\")>,\n",
       " <selenium.webdriver.remote.webelement.WebElement (session=\"b3e4f7d809f0f73b0b0ab3c3ce86f565\", element=\"fe549cd9-03a3-4e60-9ec9-a137bde4db51\")>]"
      ]
     },
     "execution_count": 182,
     "metadata": {},
     "output_type": "execute_result"
    }
   ],
   "source": [
    "glass_min=driver.find_elements_by_xpath('//div[@class=\"d-none d-lg-block\"]')\n",
    "glass_min"
   ]
  },
  {
   "cell_type": "code",
   "execution_count": 183,
   "metadata": {},
   "outputs": [
    {
     "data": {
      "text/plain": [
       "['₹4L\\n₹13L',\n",
       " '₹1L\\n₹28L',\n",
       " '₹6L\\n₹23L',\n",
       " '₹5L\\n₹1Cr',\n",
       " '₹4L\\n₹17L',\n",
       " '₹8L\\n₹16L',\n",
       " '₹8L\\n₹20L',\n",
       " '₹10L\\n₹18L',\n",
       " '₹5L\\n₹15L',\n",
       " '₹6L\\n₹16L',\n",
       " '₹4L\\n₹13L',\n",
       " '₹2L\\n₹19L',\n",
       " '₹4L\\n₹21L',\n",
       " '₹6L\\n₹17L',\n",
       " '₹10L\\n₹21L',\n",
       " '₹8L\\n₹21L',\n",
       " '₹10L\\n₹30L',\n",
       " '₹9L\\n₹15L',\n",
       " '₹12T\\n₹64T',\n",
       " '₹5L\\n₹73L']"
      ]
     },
     "execution_count": 183,
     "metadata": {},
     "output_type": "execute_result"
    }
   ],
   "source": [
    "glass_min1 = []\n",
    "for i in glass_min:\n",
    "    glass_min1.append(i.text)\n",
    "        \n",
    "glass_min1"
   ]
  },
  {
   "cell_type": "code",
   "execution_count": 193,
   "metadata": {},
   "outputs": [
    {
     "data": {
      "text/plain": [
       "[<selenium.webdriver.remote.webelement.WebElement (session=\"b3e4f7d809f0f73b0b0ab3c3ce86f565\", element=\"14d857fa-fb38-4b6f-aee9-73f78a67633d\")>,\n",
       " <selenium.webdriver.remote.webelement.WebElement (session=\"b3e4f7d809f0f73b0b0ab3c3ce86f565\", element=\"a65f5081-130e-4205-98e2-6c35abff296e\")>,\n",
       " <selenium.webdriver.remote.webelement.WebElement (session=\"b3e4f7d809f0f73b0b0ab3c3ce86f565\", element=\"bf3b1446-c6e4-4815-a92f-05e1db42396c\")>,\n",
       " <selenium.webdriver.remote.webelement.WebElement (session=\"b3e4f7d809f0f73b0b0ab3c3ce86f565\", element=\"058ff9ca-15e7-4caf-b4cb-d9a7b14bce5d\")>,\n",
       " <selenium.webdriver.remote.webelement.WebElement (session=\"b3e4f7d809f0f73b0b0ab3c3ce86f565\", element=\"c830f479-a907-48af-91a0-2a20fec3f3eb\")>,\n",
       " <selenium.webdriver.remote.webelement.WebElement (session=\"b3e4f7d809f0f73b0b0ab3c3ce86f565\", element=\"5f0cf6f0-1bee-457d-a3d8-28da04f69964\")>,\n",
       " <selenium.webdriver.remote.webelement.WebElement (session=\"b3e4f7d809f0f73b0b0ab3c3ce86f565\", element=\"1934ea52-df74-4b01-b032-dbd48430294e\")>,\n",
       " <selenium.webdriver.remote.webelement.WebElement (session=\"b3e4f7d809f0f73b0b0ab3c3ce86f565\", element=\"79e0b7b0-b239-4755-93c6-bcd97ab9f748\")>,\n",
       " <selenium.webdriver.remote.webelement.WebElement (session=\"b3e4f7d809f0f73b0b0ab3c3ce86f565\", element=\"64b45894-28d2-4cb7-bf6b-fb6d2c24ebb2\")>,\n",
       " <selenium.webdriver.remote.webelement.WebElement (session=\"b3e4f7d809f0f73b0b0ab3c3ce86f565\", element=\"394548a7-99c7-4f5a-a19d-c1aa27e16e55\")>,\n",
       " <selenium.webdriver.remote.webelement.WebElement (session=\"b3e4f7d809f0f73b0b0ab3c3ce86f565\", element=\"6ede1983-08a4-4ad4-beae-42e05a873a5d\")>,\n",
       " <selenium.webdriver.remote.webelement.WebElement (session=\"b3e4f7d809f0f73b0b0ab3c3ce86f565\", element=\"8cdefc0f-c35f-4737-8921-ea9c53566314\")>,\n",
       " <selenium.webdriver.remote.webelement.WebElement (session=\"b3e4f7d809f0f73b0b0ab3c3ce86f565\", element=\"f7fee5e6-5363-4bb6-949b-1034c7ef5404\")>,\n",
       " <selenium.webdriver.remote.webelement.WebElement (session=\"b3e4f7d809f0f73b0b0ab3c3ce86f565\", element=\"7e677cd1-c2da-45fa-9324-bee228eac996\")>,\n",
       " <selenium.webdriver.remote.webelement.WebElement (session=\"b3e4f7d809f0f73b0b0ab3c3ce86f565\", element=\"9829af7c-84e6-4b88-87bb-5d49ccea339d\")>,\n",
       " <selenium.webdriver.remote.webelement.WebElement (session=\"b3e4f7d809f0f73b0b0ab3c3ce86f565\", element=\"7cd2775b-413b-4bf2-bdc9-09c0db425eb6\")>,\n",
       " <selenium.webdriver.remote.webelement.WebElement (session=\"b3e4f7d809f0f73b0b0ab3c3ce86f565\", element=\"0ebd2e9e-2c38-495b-9bc1-73c88be86364\")>,\n",
       " <selenium.webdriver.remote.webelement.WebElement (session=\"b3e4f7d809f0f73b0b0ab3c3ce86f565\", element=\"a3eae137-a8b7-46b6-8a4e-c4facec0e5b5\")>,\n",
       " <selenium.webdriver.remote.webelement.WebElement (session=\"b3e4f7d809f0f73b0b0ab3c3ce86f565\", element=\"f25ce70f-0b06-4e29-b936-87240b50e053\")>,\n",
       " <selenium.webdriver.remote.webelement.WebElement (session=\"b3e4f7d809f0f73b0b0ab3c3ce86f565\", element=\"dd8eb447-0408-4201-802a-0f53c5a8d44a\")>]"
      ]
     },
     "execution_count": 193,
     "metadata": {},
     "output_type": "execute_result"
    }
   ],
   "source": [
    "glass_average=driver.find_elements_by_xpath('//div[@class=\"col-12 col-lg-4 px-lg-0 d-flex align-items-baseline\"]')\n",
    "glass_average"
   ]
  },
  {
   "cell_type": "code",
   "execution_count": 194,
   "metadata": {},
   "outputs": [
    {
     "data": {
      "text/plain": [
       "['₹6,28,021\\n /yr',\n",
       " '₹9,08,246\\n /yr',\n",
       " '₹11,93,390\\n /yr',\n",
       " '₹12,49,716\\n /yr',\n",
       " '₹7,58,335\\n /yr',\n",
       " '₹12,80,000\\n /yr',\n",
       " '₹13,55,086\\n /yr',\n",
       " '₹14,55,430\\n /yr',\n",
       " '₹8,86,064\\n /yr',\n",
       " '₹11,10,000\\n /yr',\n",
       " '₹9,62,227\\n /yr',\n",
       " '₹11,71,868\\n /yr',\n",
       " '₹11,01,815\\n /yr',\n",
       " '₹12,40,275\\n /yr',\n",
       " '₹14,51,902\\n /yr',\n",
       " '₹11,30,374\\n /yr',\n",
       " '₹20,63,782\\n /yr',\n",
       " '₹10,80,727\\n /yr',\n",
       " '₹35,040\\n /mo',\n",
       " '₹8,48,220\\n /yr']"
      ]
     },
     "execution_count": 194,
     "metadata": {},
     "output_type": "execute_result"
    }
   ],
   "source": [
    "glass_average1 = []\n",
    "for i in glass_average:\n",
    "    glass_average1.append(i.text)\n",
    "        \n",
    "glass_average1"
   ]
  },
  {
   "cell_type": "code",
   "execution_count": 189,
   "metadata": {},
   "outputs": [
    {
     "data": {
      "text/plain": [
       "[<selenium.webdriver.remote.webelement.WebElement (session=\"b3e4f7d809f0f73b0b0ab3c3ce86f565\", element=\"3f18d780-63df-4628-9cd2-d2459bbf9355\")>,\n",
       " <selenium.webdriver.remote.webelement.WebElement (session=\"b3e4f7d809f0f73b0b0ab3c3ce86f565\", element=\"e4157ac0-4a2c-4440-a5f9-3ce7989e74ae\")>,\n",
       " <selenium.webdriver.remote.webelement.WebElement (session=\"b3e4f7d809f0f73b0b0ab3c3ce86f565\", element=\"efedec0c-0e30-4f20-a98d-c4cb8cf84e21\")>,\n",
       " <selenium.webdriver.remote.webelement.WebElement (session=\"b3e4f7d809f0f73b0b0ab3c3ce86f565\", element=\"65825f6c-1e6a-411d-8b33-b2b559c30e1b\")>,\n",
       " <selenium.webdriver.remote.webelement.WebElement (session=\"b3e4f7d809f0f73b0b0ab3c3ce86f565\", element=\"d5a262b7-193b-4956-b33d-5b52de1fd339\")>,\n",
       " <selenium.webdriver.remote.webelement.WebElement (session=\"b3e4f7d809f0f73b0b0ab3c3ce86f565\", element=\"557b8ec6-bfbc-4171-83ec-95390ae77cac\")>,\n",
       " <selenium.webdriver.remote.webelement.WebElement (session=\"b3e4f7d809f0f73b0b0ab3c3ce86f565\", element=\"01161971-a5f2-4316-8187-c630a98df5fd\")>,\n",
       " <selenium.webdriver.remote.webelement.WebElement (session=\"b3e4f7d809f0f73b0b0ab3c3ce86f565\", element=\"dd460c29-d2de-4873-b16c-cbddb198a8fb\")>,\n",
       " <selenium.webdriver.remote.webelement.WebElement (session=\"b3e4f7d809f0f73b0b0ab3c3ce86f565\", element=\"651be441-f988-4a66-b7fe-543aff0a5a5e\")>,\n",
       " <selenium.webdriver.remote.webelement.WebElement (session=\"b3e4f7d809f0f73b0b0ab3c3ce86f565\", element=\"4134c8f6-87db-4ece-ae71-52b4efb5fcce\")>,\n",
       " <selenium.webdriver.remote.webelement.WebElement (session=\"b3e4f7d809f0f73b0b0ab3c3ce86f565\", element=\"e83f8ede-f39b-4dbf-b2a2-83c59c9f29a8\")>,\n",
       " <selenium.webdriver.remote.webelement.WebElement (session=\"b3e4f7d809f0f73b0b0ab3c3ce86f565\", element=\"01b692ca-5ad6-4872-985e-3626f5b2ec03\")>,\n",
       " <selenium.webdriver.remote.webelement.WebElement (session=\"b3e4f7d809f0f73b0b0ab3c3ce86f565\", element=\"eb9349c4-f03e-4e3a-92e5-6ebc2c874451\")>,\n",
       " <selenium.webdriver.remote.webelement.WebElement (session=\"b3e4f7d809f0f73b0b0ab3c3ce86f565\", element=\"7d420647-e0af-4edb-882d-47f5fdcc70cd\")>,\n",
       " <selenium.webdriver.remote.webelement.WebElement (session=\"b3e4f7d809f0f73b0b0ab3c3ce86f565\", element=\"3ffb6594-f3b1-4d11-8c4e-768e0f871f8d\")>,\n",
       " <selenium.webdriver.remote.webelement.WebElement (session=\"b3e4f7d809f0f73b0b0ab3c3ce86f565\", element=\"aa91cf01-0288-48c3-bab7-9613899fb950\")>,\n",
       " <selenium.webdriver.remote.webelement.WebElement (session=\"b3e4f7d809f0f73b0b0ab3c3ce86f565\", element=\"072bec95-1c9b-4809-af67-97daf6cf6523\")>,\n",
       " <selenium.webdriver.remote.webelement.WebElement (session=\"b3e4f7d809f0f73b0b0ab3c3ce86f565\", element=\"8370257a-3b0d-432c-a50c-2cb62957736a\")>,\n",
       " <selenium.webdriver.remote.webelement.WebElement (session=\"b3e4f7d809f0f73b0b0ab3c3ce86f565\", element=\"a509650a-4fb1-4bb3-a83f-1581ab400f5c\")>,\n",
       " <selenium.webdriver.remote.webelement.WebElement (session=\"b3e4f7d809f0f73b0b0ab3c3ce86f565\", element=\"8c689a31-e828-49fe-aa33-f3489f708d33\")>]"
      ]
     },
     "execution_count": 189,
     "metadata": {},
     "output_type": "execute_result"
    }
   ],
   "source": [
    "glass_ratingg=driver.find_elements_by_xpath('//span[@class=\"m-0 css-kyx745\"]')\n",
    "glass_ratingg"
   ]
  },
  {
   "cell_type": "code",
   "execution_count": 190,
   "metadata": {},
   "outputs": [
    {
     "data": {
      "text/plain": [
       "['3.9',\n",
       " '3.9',\n",
       " '4.1',\n",
       " '3.8',\n",
       " '4',\n",
       " '3.7',\n",
       " '3.7',\n",
       " '3.9',\n",
       " '4.2',\n",
       " '3.6',\n",
       " '3.8',\n",
       " '4',\n",
       " '4',\n",
       " '3.8',\n",
       " '3.3',\n",
       " '4.1',\n",
       " '3.8',\n",
       " '4.1',\n",
       " '3.8',\n",
       " '3.8']"
      ]
     },
     "execution_count": 190,
     "metadata": {},
     "output_type": "execute_result"
    }
   ],
   "source": [
    "glass_ratingg1 = []\n",
    "for i in glass_ratingg:\n",
    "    glass_ratingg1.append(i.text)\n",
    "        \n",
    "glass_ratingg1"
   ]
  },
  {
   "cell_type": "code",
   "execution_count": 195,
   "metadata": {},
   "outputs": [
    {
     "data": {
      "text/html": [
       "<div>\n",
       "<style scoped>\n",
       "    .dataframe tbody tr th:only-of-type {\n",
       "        vertical-align: middle;\n",
       "    }\n",
       "\n",
       "    .dataframe tbody tr th {\n",
       "        vertical-align: top;\n",
       "    }\n",
       "\n",
       "    .dataframe thead th {\n",
       "        text-align: right;\n",
       "    }\n",
       "</style>\n",
       "<table border=\"1\" class=\"dataframe\">\n",
       "  <thead>\n",
       "    <tr style=\"text-align: right;\">\n",
       "      <th></th>\n",
       "      <th>glassname1</th>\n",
       "      <th>glassmin1</th>\n",
       "      <th>glassaverage1</th>\n",
       "      <th>glassratingg1</th>\n",
       "    </tr>\n",
       "  </thead>\n",
       "  <tbody>\n",
       "    <tr>\n",
       "      <th>0</th>\n",
       "      <td>Tata Consultancy Services</td>\n",
       "      <td>₹4L\\n₹13L</td>\n",
       "      <td>₹6,28,021\\n /yr</td>\n",
       "      <td>3.9</td>\n",
       "    </tr>\n",
       "    <tr>\n",
       "      <th>1</th>\n",
       "      <td>IBM</td>\n",
       "      <td>₹1L\\n₹28L</td>\n",
       "      <td>₹9,08,246\\n /yr</td>\n",
       "      <td>3.9</td>\n",
       "    </tr>\n",
       "    <tr>\n",
       "      <th>2</th>\n",
       "      <td>Accenture</td>\n",
       "      <td>₹6L\\n₹23L</td>\n",
       "      <td>₹11,93,390\\n /yr</td>\n",
       "      <td>4.1</td>\n",
       "    </tr>\n",
       "    <tr>\n",
       "      <th>3</th>\n",
       "      <td>Delhivery</td>\n",
       "      <td>₹5L\\n₹1Cr</td>\n",
       "      <td>₹12,49,716\\n /yr</td>\n",
       "      <td>3.8</td>\n",
       "    </tr>\n",
       "    <tr>\n",
       "      <th>4</th>\n",
       "      <td>Ericsson-Worldwide</td>\n",
       "      <td>₹4L\\n₹17L</td>\n",
       "      <td>₹7,58,335\\n /yr</td>\n",
       "      <td>4</td>\n",
       "    </tr>\n",
       "    <tr>\n",
       "      <th>5</th>\n",
       "      <td>UnitedHealth Group</td>\n",
       "      <td>₹8L\\n₹16L</td>\n",
       "      <td>₹12,80,000\\n /yr</td>\n",
       "      <td>3.7</td>\n",
       "    </tr>\n",
       "    <tr>\n",
       "      <th>6</th>\n",
       "      <td>Optum</td>\n",
       "      <td>₹8L\\n₹20L</td>\n",
       "      <td>₹13,55,086\\n /yr</td>\n",
       "      <td>3.7</td>\n",
       "    </tr>\n",
       "    <tr>\n",
       "      <th>7</th>\n",
       "      <td>Optum Global Solutions</td>\n",
       "      <td>₹10L\\n₹18L</td>\n",
       "      <td>₹14,55,430\\n /yr</td>\n",
       "      <td>3.9</td>\n",
       "    </tr>\n",
       "    <tr>\n",
       "      <th>8</th>\n",
       "      <td>Valiance Solutions</td>\n",
       "      <td>₹5L\\n₹15L</td>\n",
       "      <td>₹8,86,064\\n /yr</td>\n",
       "      <td>4.2</td>\n",
       "    </tr>\n",
       "    <tr>\n",
       "      <th>9</th>\n",
       "      <td>EXL Service</td>\n",
       "      <td>₹6L\\n₹16L</td>\n",
       "      <td>₹11,10,000\\n /yr</td>\n",
       "      <td>3.6</td>\n",
       "    </tr>\n",
       "  </tbody>\n",
       "</table>\n",
       "</div>"
      ],
      "text/plain": [
       "                  glassname1   glassmin1     glassaverage1 glassratingg1\n",
       "0  Tata Consultancy Services   ₹4L\\n₹13L   ₹6,28,021\\n /yr           3.9\n",
       "1                        IBM   ₹1L\\n₹28L   ₹9,08,246\\n /yr           3.9\n",
       "2                  Accenture   ₹6L\\n₹23L  ₹11,93,390\\n /yr           4.1\n",
       "3                  Delhivery   ₹5L\\n₹1Cr  ₹12,49,716\\n /yr           3.8\n",
       "4         Ericsson-Worldwide   ₹4L\\n₹17L   ₹7,58,335\\n /yr             4\n",
       "5         UnitedHealth Group   ₹8L\\n₹16L  ₹12,80,000\\n /yr           3.7\n",
       "6                      Optum   ₹8L\\n₹20L  ₹13,55,086\\n /yr           3.7\n",
       "7     Optum Global Solutions  ₹10L\\n₹18L  ₹14,55,430\\n /yr           3.9\n",
       "8         Valiance Solutions   ₹5L\\n₹15L   ₹8,86,064\\n /yr           4.2\n",
       "9                EXL Service   ₹6L\\n₹16L  ₹11,10,000\\n /yr           3.6"
      ]
     },
     "execution_count": 195,
     "metadata": {},
     "output_type": "execute_result"
    }
   ],
   "source": [
    "glassjobs=pd.DataFrame({})\n",
    "glassjobs['glassname1']=glass_name1[0:10]\n",
    "glassjobs['glassmin1']=glass_min1[0:10]\n",
    "glassjobs['glassaverage1']=glass_average1[0:10]\n",
    "glassjobs['glassratingg1']=glass_ratingg1[0:10]\n",
    "glassjobs"
   ]
  },
  {
   "cell_type": "code",
   "execution_count": null,
   "metadata": {},
   "outputs": [],
   "source": [
    "#Question No = 6"
   ]
  },
  {
   "cell_type": "code",
   "execution_count": 608,
   "metadata": {},
   "outputs": [
    {
     "data": {
      "text/plain": [
       "<selenium.webdriver.chrome.webdriver.WebDriver (session=\"6ca0494f35dc6570037e2e41f4fdff65\")>"
      ]
     },
     "execution_count": 608,
     "metadata": {},
     "output_type": "execute_result"
    }
   ],
   "source": [
    "driver=webdriver.Chrome(\"chromedriver.exe\")\n",
    "driver"
   ]
  },
  {
   "cell_type": "code",
   "execution_count": 609,
   "metadata": {},
   "outputs": [],
   "source": [
    "sunglassurl = 'https://www.flipkart.com/'\n",
    "driver.get(sunglassurl)"
   ]
  },
  {
   "cell_type": "code",
   "execution_count": 610,
   "metadata": {},
   "outputs": [],
   "source": [
    "driver.find_element_by_xpath('//button[text()=\"✕\"]').click()\n"
   ]
  },
  {
   "cell_type": "code",
   "execution_count": 611,
   "metadata": {},
   "outputs": [
    {
     "data": {
      "text/plain": [
       "<selenium.webdriver.remote.webelement.WebElement (session=\"6ca0494f35dc6570037e2e41f4fdff65\", element=\"38e0d351-58f0-446e-bbe0-3a23429a2511\")>"
      ]
     },
     "execution_count": 611,
     "metadata": {},
     "output_type": "execute_result"
    }
   ],
   "source": [
    "sunglass_job=driver.find_element_by_xpath('//input[@name=\"q\"]')\n",
    "sunglass_job"
   ]
  },
  {
   "cell_type": "code",
   "execution_count": 612,
   "metadata": {},
   "outputs": [],
   "source": [
    "sunglass_job.send_keys(\"sunglasses\")"
   ]
  },
  {
   "cell_type": "code",
   "execution_count": 613,
   "metadata": {},
   "outputs": [
    {
     "data": {
      "text/plain": [
       "<selenium.webdriver.remote.webelement.WebElement (session=\"6ca0494f35dc6570037e2e41f4fdff65\", element=\"cbff1ccb-52e8-40c1-baf8-48858ca9248f\")>"
      ]
     },
     "execution_count": 613,
     "metadata": {},
     "output_type": "execute_result"
    }
   ],
   "source": [
    "sunglass_button=driver.find_element_by_xpath('//button[@type=\"submit\"]')\n",
    "sunglass_button"
   ]
  },
  {
   "cell_type": "code",
   "execution_count": 614,
   "metadata": {},
   "outputs": [],
   "source": [
    "sunglass_button.click()"
   ]
  },
  {
   "cell_type": "code",
   "execution_count": 617,
   "metadata": {},
   "outputs": [
    {
     "data": {
      "text/plain": [
       "[<selenium.webdriver.remote.webelement.WebElement (session=\"6ca0494f35dc6570037e2e41f4fdff65\", element=\"d5361760-2b07-4291-b3e3-272c4ab0db0f\")>,\n",
       " <selenium.webdriver.remote.webelement.WebElement (session=\"6ca0494f35dc6570037e2e41f4fdff65\", element=\"2f98fb38-9458-40d7-b3f4-94e82bda00f8\")>,\n",
       " <selenium.webdriver.remote.webelement.WebElement (session=\"6ca0494f35dc6570037e2e41f4fdff65\", element=\"c258ef31-baab-454a-8d4b-c3e94943c5e2\")>,\n",
       " <selenium.webdriver.remote.webelement.WebElement (session=\"6ca0494f35dc6570037e2e41f4fdff65\", element=\"e052e287-e577-452a-aaa6-039ca39db763\")>,\n",
       " <selenium.webdriver.remote.webelement.WebElement (session=\"6ca0494f35dc6570037e2e41f4fdff65\", element=\"67a821ec-2792-43b5-84c2-8395ac566421\")>,\n",
       " <selenium.webdriver.remote.webelement.WebElement (session=\"6ca0494f35dc6570037e2e41f4fdff65\", element=\"d2949650-4c54-459f-b917-79e03d8ecc3f\")>,\n",
       " <selenium.webdriver.remote.webelement.WebElement (session=\"6ca0494f35dc6570037e2e41f4fdff65\", element=\"2b7aa2f5-c836-4b0e-af59-c34c9a002dce\")>,\n",
       " <selenium.webdriver.remote.webelement.WebElement (session=\"6ca0494f35dc6570037e2e41f4fdff65\", element=\"f7392462-77e0-4899-bea5-c3400d87b18a\")>,\n",
       " <selenium.webdriver.remote.webelement.WebElement (session=\"6ca0494f35dc6570037e2e41f4fdff65\", element=\"0d8650b5-8642-40dc-bfc6-69b0c43a753a\")>,\n",
       " <selenium.webdriver.remote.webelement.WebElement (session=\"6ca0494f35dc6570037e2e41f4fdff65\", element=\"6f1198d1-b18a-476b-8f30-b680581420c4\")>,\n",
       " <selenium.webdriver.remote.webelement.WebElement (session=\"6ca0494f35dc6570037e2e41f4fdff65\", element=\"7af769f7-48fc-46ac-886e-3f67c58b0d1a\")>,\n",
       " <selenium.webdriver.remote.webelement.WebElement (session=\"6ca0494f35dc6570037e2e41f4fdff65\", element=\"7f9d3527-29dd-4c7d-9b3f-b9a1d0ed5e2d\")>,\n",
       " <selenium.webdriver.remote.webelement.WebElement (session=\"6ca0494f35dc6570037e2e41f4fdff65\", element=\"34477bb8-735c-4763-a07a-8ce3278db71f\")>,\n",
       " <selenium.webdriver.remote.webelement.WebElement (session=\"6ca0494f35dc6570037e2e41f4fdff65\", element=\"ac1866f6-553b-41f9-b0d6-91af9701342b\")>,\n",
       " <selenium.webdriver.remote.webelement.WebElement (session=\"6ca0494f35dc6570037e2e41f4fdff65\", element=\"caa44377-50a2-44cf-b8ee-e055fd8e1bf8\")>,\n",
       " <selenium.webdriver.remote.webelement.WebElement (session=\"6ca0494f35dc6570037e2e41f4fdff65\", element=\"ac30391c-07c4-4ff3-b393-8f3f08d44736\")>,\n",
       " <selenium.webdriver.remote.webelement.WebElement (session=\"6ca0494f35dc6570037e2e41f4fdff65\", element=\"1633d8b2-5631-48ec-98e8-52767c9eac62\")>,\n",
       " <selenium.webdriver.remote.webelement.WebElement (session=\"6ca0494f35dc6570037e2e41f4fdff65\", element=\"c2ecb5b3-60eb-40b1-ba3f-c7d99a662e99\")>,\n",
       " <selenium.webdriver.remote.webelement.WebElement (session=\"6ca0494f35dc6570037e2e41f4fdff65\", element=\"6303d50f-fa8b-42d6-8457-8b550fd05cf9\")>,\n",
       " <selenium.webdriver.remote.webelement.WebElement (session=\"6ca0494f35dc6570037e2e41f4fdff65\", element=\"952953a2-ca79-4008-947b-15c33052d9ca\")>,\n",
       " <selenium.webdriver.remote.webelement.WebElement (session=\"6ca0494f35dc6570037e2e41f4fdff65\", element=\"95e3882d-39b1-4d40-af9d-5266509bff67\")>,\n",
       " <selenium.webdriver.remote.webelement.WebElement (session=\"6ca0494f35dc6570037e2e41f4fdff65\", element=\"f965bb73-aa6f-43d8-ac1c-7f239d46a60b\")>,\n",
       " <selenium.webdriver.remote.webelement.WebElement (session=\"6ca0494f35dc6570037e2e41f4fdff65\", element=\"0bc73e5d-c10d-41c7-ba09-5bfc27cca710\")>,\n",
       " <selenium.webdriver.remote.webelement.WebElement (session=\"6ca0494f35dc6570037e2e41f4fdff65\", element=\"9a882fc6-b245-49e1-a91c-1c6d8bf0182e\")>,\n",
       " <selenium.webdriver.remote.webelement.WebElement (session=\"6ca0494f35dc6570037e2e41f4fdff65\", element=\"63ca2a01-818a-489d-a444-b637778f3c42\")>,\n",
       " <selenium.webdriver.remote.webelement.WebElement (session=\"6ca0494f35dc6570037e2e41f4fdff65\", element=\"10da9b86-a462-4256-8d2e-cde1f1036b66\")>,\n",
       " <selenium.webdriver.remote.webelement.WebElement (session=\"6ca0494f35dc6570037e2e41f4fdff65\", element=\"a76ac4ad-a379-4c19-955a-923126d42a3f\")>,\n",
       " <selenium.webdriver.remote.webelement.WebElement (session=\"6ca0494f35dc6570037e2e41f4fdff65\", element=\"9c979078-16ce-4dd3-a57f-421b3e1c3302\")>,\n",
       " <selenium.webdriver.remote.webelement.WebElement (session=\"6ca0494f35dc6570037e2e41f4fdff65\", element=\"e7da5e8b-3c52-4ad2-940f-7e1b67b8541c\")>,\n",
       " <selenium.webdriver.remote.webelement.WebElement (session=\"6ca0494f35dc6570037e2e41f4fdff65\", element=\"d8e361a8-9545-45f0-b9b8-97280e7fbb2b\")>,\n",
       " <selenium.webdriver.remote.webelement.WebElement (session=\"6ca0494f35dc6570037e2e41f4fdff65\", element=\"da623fb9-b1ab-4148-a66c-8b9db77c1af7\")>,\n",
       " <selenium.webdriver.remote.webelement.WebElement (session=\"6ca0494f35dc6570037e2e41f4fdff65\", element=\"b4079aa6-5a5e-4835-b0c6-ab0ca5e9c7b2\")>,\n",
       " <selenium.webdriver.remote.webelement.WebElement (session=\"6ca0494f35dc6570037e2e41f4fdff65\", element=\"22e77216-b2b8-43ef-adcc-f10ae1c0be92\")>,\n",
       " <selenium.webdriver.remote.webelement.WebElement (session=\"6ca0494f35dc6570037e2e41f4fdff65\", element=\"d8abadc8-de11-438e-bb15-cfd05efe450a\")>,\n",
       " <selenium.webdriver.remote.webelement.WebElement (session=\"6ca0494f35dc6570037e2e41f4fdff65\", element=\"d277d20b-0d4b-4116-b4d4-aaac67310aa7\")>,\n",
       " <selenium.webdriver.remote.webelement.WebElement (session=\"6ca0494f35dc6570037e2e41f4fdff65\", element=\"e9d5cc65-85cb-48ed-bc50-f51fad7d564c\")>,\n",
       " <selenium.webdriver.remote.webelement.WebElement (session=\"6ca0494f35dc6570037e2e41f4fdff65\", element=\"ad3ff84b-dd23-4731-98a5-72ce4239569a\")>,\n",
       " <selenium.webdriver.remote.webelement.WebElement (session=\"6ca0494f35dc6570037e2e41f4fdff65\", element=\"1d0a6290-a5a0-46f7-abfb-0f7e64202650\")>,\n",
       " <selenium.webdriver.remote.webelement.WebElement (session=\"6ca0494f35dc6570037e2e41f4fdff65\", element=\"f887d11c-f616-49c8-828a-c6a8578c13f0\")>,\n",
       " <selenium.webdriver.remote.webelement.WebElement (session=\"6ca0494f35dc6570037e2e41f4fdff65\", element=\"bee87a39-8ae9-4e16-b9c2-c915055dcabe\")>]"
      ]
     },
     "execution_count": 617,
     "metadata": {},
     "output_type": "execute_result"
    }
   ],
   "source": [
    "brand=driver.find_elements_by_xpath('//div[@class=\"_1xHGtK _373qXS\"]//div[@class=\"_2B099V\"]')\n",
    "brand"
   ]
  },
  {
   "cell_type": "code",
   "execution_count": 619,
   "metadata": {},
   "outputs": [
    {
     "data": {
      "text/plain": [
       "['ROYAL SON UV Protection Retro Square Sunglasses (60) ₹664₹1,99966% off',\n",
       " 'ROYAL SON Polarized, UV Protection Aviator Sunglasses (58) ₹759₹1,99962% off',\n",
       " 'Elligator UV Protection Round Sunglasses (54) ₹295₹2,49588% off',\n",
       " 'kingsunglasses Mirrored, UV Protection Wayfarer Sunglasses (Free Size) ₹284₹2,59989% off',\n",
       " 'SHAAH COLLECTIONS UV Protection, Polarized, Mirrored Rectangular Sunglass... ₹198₹1,69988% off',\n",
       " 'Fastrack UV Protection Wayfarer Sunglasses (56) ₹369₹89958% off',\n",
       " 'Fastrack Gradient, UV Protection Wayfarer Sunglasses (Free Size) ₹509₹79936% off',\n",
       " 'ROYAL SON Gradient, UV Protection Cat-eye, Over-sized Sunglasses ... ₹664₹1,49955% off',\n",
       " 'ROZZETTA CRAFT UV Protection Retro Square Sunglasses (Free Size) ₹499₹2,22577% off',\n",
       " 'PIRASO UV Protection Aviator Sunglasses (54) ₹237₹1,59985% off',\n",
       " 'kingsunglasses UV Protection Round Sunglasses (54) ₹213₹1,09980% off',\n",
       " 'ROYAL SON Mirrored Aviator Sunglasses (55) ₹379₹1,49974% off',\n",
       " 'ROZZETTA CRAFT UV Protection, Gradient Round Sunglasses (Free Size) ₹449₹1,99977% off',\n",
       " 'ROZZETTA CRAFT UV Protection, Gradient Rectangular Sunglasses (Free Si... ₹404₹1,99979% off',\n",
       " 'DEIXELS UV Protection Aviator, Wayfarer Sunglasses (Free Size) ₹202₹1,19983% off',\n",
       " 'AISLIN UV Protection, Gradient Wayfarer, Clubmaster Sunglasses... ₹525₹1,52565% off',\n",
       " 'Fastrack UV Protection Aviator Sunglasses (Free Size) ₹520₹79934% off',\n",
       " 'SHAAH COLLECTIONS UV Protection Round Sunglasses (Free Size) ₹331₹1,69980% off',\n",
       " 'SHAAH COLLECTIONS UV Protection, Polarized, Mirrored Rectangular Sunglass... ₹215₹99978% off',\n",
       " 'ROYAL SON Polarized, UV Protection Aviator Sunglasses (58) ₹711₹1,99964% off',\n",
       " 'SUNBEE UV Protection, Polarized, Mirrored Wayfarer Sunglasses ... ₹265₹99973% off',\n",
       " 'ROYAL SON UV Protection Rectangular Sunglasses (58) ₹474₹1,49968% off',\n",
       " 'PIRASO UV Protection Aviator Sunglasses (54) ₹237₹1,59985% off',\n",
       " 'ROYAL SON UV Protection Retro Square Sunglasses (88) ₹569₹1,99971% off',\n",
       " 'PIRASO UV Protection Aviator Sunglasses (54) ₹237₹1,59985% off',\n",
       " 'ROZZETTA CRAFT UV Protection, Riding Glasses Rectangular Sunglasses (F... ₹449₹2,22579% off',\n",
       " 'Fastrack UV Protection Wayfarer Sunglasses (Free Size) ₹859₹8994% off',\n",
       " 'ROYAL SON Polarized, UV Protection, Gradient Over-sized, Butterfl... ₹1,234₹2,99958% off',\n",
       " 'OCCARIO Others Round Sunglasses (52) ₹179₹59569% off',\n",
       " 'kingsunglasses Mirrored, UV Protection Wayfarer Sunglasses (Free Size) ₹284₹2,59989% off',\n",
       " 'NuVew UV Protection Aviator Sunglasses (58) ₹202₹78574% off',\n",
       " 'Singco India Mirrored, UV Protection, Riding Glasses, Others Wrap-ar... ₹331₹1,99983% off',\n",
       " 'Rich Club UV Protection, Mirrored, Gradient Round Sunglasses (51) ₹215₹79973% off',\n",
       " 'PHENOMENAL UV Protection Retro Square Sunglasses (Free Size) ₹399₹1,99980% off',\n",
       " 'ROYAL SON UV Protection Retro Square Sunglasses (58) ₹474₹1,49968% off',\n",
       " 'ROYAL SON UV Protection Wayfarer Sunglasses (55) ₹248₹1,29980% off',\n",
       " 'Silver Kartz UV Protection Wayfarer Sunglasses (Free Size) ₹246₹1,49983% off',\n",
       " 'kingsunglasses UV Protection Round Sunglasses (Free Size) ₹331₹1,59979% off',\n",
       " 'PHENOMENAL UV Protection, Mirrored Retro Square Sunglasses (53) ₹399₹1,99980% off',\n",
       " 'ROYAL SON Polarized, UV Protection Round Sunglasses (49) ₹664₹1,99966% off']"
      ]
     },
     "execution_count": 619,
     "metadata": {},
     "output_type": "execute_result"
    }
   ],
   "source": [
    "brand1 = []\n",
    "for i in brand:\n",
    "    brand1.append(i.text.replace('\\n',''))\n",
    "        \n",
    "brand1"
   ]
  },
  {
   "cell_type": "code",
   "execution_count": null,
   "metadata": {},
   "outputs": [],
   "source": [
    "# Question No = 7"
   ]
  },
  {
   "cell_type": "code",
   "execution_count": 604,
   "metadata": {},
   "outputs": [
    {
     "data": {
      "text/plain": [
       "<selenium.webdriver.chrome.webdriver.WebDriver (session=\"ad46c6100eebfbe59c56bda1b2eeb2db\")>"
      ]
     },
     "execution_count": 604,
     "metadata": {},
     "output_type": "execute_result"
    }
   ],
   "source": [
    "driver=webdriver.Chrome(\"chromedriver.exe\")\n",
    "driver"
   ]
  },
  {
   "cell_type": "code",
   "execution_count": 605,
   "metadata": {},
   "outputs": [],
   "source": [
    "appleurl = 'https://www.flipkart.com/apple-iphone-11-black-64-gb-includes-earpods-power-adapter/p/itm0f37c2240b217?pid=MOBFKCTSVZAXUHGR&lid=LSTMOBFKCTSVZAXUHGREPBFGI&marketplace'\n",
    "driver.get(appleurl)"
   ]
  },
  {
   "cell_type": "code",
   "execution_count": 606,
   "metadata": {},
   "outputs": [
    {
     "data": {
      "text/plain": [
       "[<selenium.webdriver.remote.webelement.WebElement (session=\"ad46c6100eebfbe59c56bda1b2eeb2db\", element=\"69d68cb5-b21d-4ec8-b753-c478cf089df4\")>,\n",
       " <selenium.webdriver.remote.webelement.WebElement (session=\"ad46c6100eebfbe59c56bda1b2eeb2db\", element=\"6fc4226a-a55e-4788-9ee9-3a3e4b1651c6\")>,\n",
       " <selenium.webdriver.remote.webelement.WebElement (session=\"ad46c6100eebfbe59c56bda1b2eeb2db\", element=\"9d97ae37-ecc3-401c-a9b8-7cca613e641b\")>,\n",
       " <selenium.webdriver.remote.webelement.WebElement (session=\"ad46c6100eebfbe59c56bda1b2eeb2db\", element=\"7f9ead7f-6238-45ba-8237-adf0fe4c9b89\")>,\n",
       " <selenium.webdriver.remote.webelement.WebElement (session=\"ad46c6100eebfbe59c56bda1b2eeb2db\", element=\"2d2ab3c0-ce40-428b-af44-14e038970e3d\")>,\n",
       " <selenium.webdriver.remote.webelement.WebElement (session=\"ad46c6100eebfbe59c56bda1b2eeb2db\", element=\"9f628918-340f-407c-8b2e-b240519d4840\")>,\n",
       " <selenium.webdriver.remote.webelement.WebElement (session=\"ad46c6100eebfbe59c56bda1b2eeb2db\", element=\"dd21c239-d5b5-4b9a-b979-a15994b11435\")>,\n",
       " <selenium.webdriver.remote.webelement.WebElement (session=\"ad46c6100eebfbe59c56bda1b2eeb2db\", element=\"9950f440-d01a-4d83-bb52-eef43e8af822\")>,\n",
       " <selenium.webdriver.remote.webelement.WebElement (session=\"ad46c6100eebfbe59c56bda1b2eeb2db\", element=\"7d423455-9e15-4996-a20b-5e45430b6188\")>,\n",
       " <selenium.webdriver.remote.webelement.WebElement (session=\"ad46c6100eebfbe59c56bda1b2eeb2db\", element=\"7d4c9e25-75eb-4b8f-91b8-109f5c3d8249\")>]"
      ]
     },
     "execution_count": 606,
     "metadata": {},
     "output_type": "execute_result"
    }
   ],
   "source": [
    "apple_rating=driver.find_elements_by_xpath('//div[@class=\"_3LWZlK _1BLPMq\"]')\n",
    "apple_rating"
   ]
  },
  {
   "cell_type": "code",
   "execution_count": 607,
   "metadata": {},
   "outputs": [
    {
     "data": {
      "text/plain": [
       "['', '', '', '', '', '', '', '', '', '']"
      ]
     },
     "execution_count": 607,
     "metadata": {},
     "output_type": "execute_result"
    }
   ],
   "source": [
    "apple_ratingg1 = []\n",
    "for i in apple_rating:\n",
    "    apple_ratingg1.append(i.text)\n",
    "        \n",
    "apple_ratingg1"
   ]
  },
  {
   "cell_type": "code",
   "execution_count": 598,
   "metadata": {},
   "outputs": [
    {
     "data": {
      "text/plain": [
       "10"
      ]
     },
     "execution_count": 598,
     "metadata": {},
     "output_type": "execute_result"
    }
   ],
   "source": [
    "len(apple_ratingg1)"
   ]
  },
  {
   "cell_type": "code",
   "execution_count": 599,
   "metadata": {},
   "outputs": [
    {
     "data": {
      "text/plain": [
       "[<selenium.webdriver.remote.webelement.WebElement (session=\"d03852638f24c2bd4300d494efaaec62\", element=\"463f1b04-8265-471f-a6d3-153c3ac5a8cf\")>,\n",
       " <selenium.webdriver.remote.webelement.WebElement (session=\"d03852638f24c2bd4300d494efaaec62\", element=\"e6c80f51-32d7-4ca9-b7bd-ed34774284a6\")>,\n",
       " <selenium.webdriver.remote.webelement.WebElement (session=\"d03852638f24c2bd4300d494efaaec62\", element=\"f10209ba-3c13-4ea6-8bf2-b343431d6d6c\")>,\n",
       " <selenium.webdriver.remote.webelement.WebElement (session=\"d03852638f24c2bd4300d494efaaec62\", element=\"27f89c15-80ea-43a9-a8d2-5e7d65b0d23c\")>,\n",
       " <selenium.webdriver.remote.webelement.WebElement (session=\"d03852638f24c2bd4300d494efaaec62\", element=\"4ab92b7a-42bb-4d01-be41-585670f93693\")>,\n",
       " <selenium.webdriver.remote.webelement.WebElement (session=\"d03852638f24c2bd4300d494efaaec62\", element=\"4dfa9775-569b-4e0e-8673-3dccf474478e\")>,\n",
       " <selenium.webdriver.remote.webelement.WebElement (session=\"d03852638f24c2bd4300d494efaaec62\", element=\"ff9b61c0-9ac8-41f3-818a-20f031840374\")>,\n",
       " <selenium.webdriver.remote.webelement.WebElement (session=\"d03852638f24c2bd4300d494efaaec62\", element=\"a82d1c35-dfeb-40a2-b04c-c6864b02a64e\")>,\n",
       " <selenium.webdriver.remote.webelement.WebElement (session=\"d03852638f24c2bd4300d494efaaec62\", element=\"cdfef513-b9ac-4fb2-8639-ba382c1f600e\")>,\n",
       " <selenium.webdriver.remote.webelement.WebElement (session=\"d03852638f24c2bd4300d494efaaec62\", element=\"f7571ed8-dc42-43d5-b497-4333a0f07089\")>]"
      ]
     },
     "execution_count": 599,
     "metadata": {},
     "output_type": "execute_result"
    }
   ],
   "source": [
    "apple_review=driver.find_elements_by_xpath('//div[@class=\"t-ZTKy\"]')\n",
    "apple_review"
   ]
  },
  {
   "cell_type": "code",
   "execution_count": 577,
   "metadata": {},
   "outputs": [
    {
     "data": {
      "text/plain": [
       "['The Best Phone for the Money\\n\\nThe iPhone 11 offers superb cameras, a more durable design and excellent battery life for an affordable price.\\n\\nCompelling ultra-wide camera\\nNew Night mode is excellent\\nLong battery life',\n",
       " 'Really satisfied with the Product I received... It’s totally genuine and the packaging was also really good so if ur planning to buy just go for it.',\n",
       " 'Great iPhone very snappy experience as apple kind. Upgraded from iPhone 7.\\nPros\\n-Camera top class\\n- Battery top performed\\n-Chipset no need to say as apple kind\\n-Security as you expect from apple\\n- Display super bright industry leading colour\\naccuracy and super responsive\\n-Build quality as expect from apple sturdy\\npremium durable beautiful stylish.\\n-Os most stable os in smartphone industry\\n\\nCons\\n-No 5G\\n-Display is not based on OLED technology\\n-Charger headphones and 1 apple stic...\\nREAD MORE',\n",
       " '',\n",
       " '',\n",
       " '',\n",
       " '',\n",
       " '',\n",
       " '',\n",
       " '']"
      ]
     },
     "execution_count": 577,
     "metadata": {},
     "output_type": "execute_result"
    }
   ],
   "source": [
    "apple_review1 = []\n",
    "for i in apple_review:\n",
    "    apple_review1.append(i.text)\n",
    "        \n",
    "apple_review1"
   ]
  },
  {
   "cell_type": "code",
   "execution_count": 578,
   "metadata": {},
   "outputs": [
    {
     "data": {
      "text/html": [
       "<div>\n",
       "<style scoped>\n",
       "    .dataframe tbody tr th:only-of-type {\n",
       "        vertical-align: middle;\n",
       "    }\n",
       "\n",
       "    .dataframe tbody tr th {\n",
       "        vertical-align: top;\n",
       "    }\n",
       "\n",
       "    .dataframe thead th {\n",
       "        text-align: right;\n",
       "    }\n",
       "</style>\n",
       "<table border=\"1\" class=\"dataframe\">\n",
       "  <thead>\n",
       "    <tr style=\"text-align: right;\">\n",
       "      <th></th>\n",
       "      <th>glassname1</th>\n",
       "      <th>glassmin1</th>\n",
       "    </tr>\n",
       "  </thead>\n",
       "  <tbody>\n",
       "    <tr>\n",
       "      <th>0</th>\n",
       "      <td>5</td>\n",
       "      <td>The Best Phone for the Money\\n\\nThe iPhone 11 ...</td>\n",
       "    </tr>\n",
       "    <tr>\n",
       "      <th>1</th>\n",
       "      <td>5</td>\n",
       "      <td>Really satisfied with the Product I received.....</td>\n",
       "    </tr>\n",
       "    <tr>\n",
       "      <th>2</th>\n",
       "      <td>5</td>\n",
       "      <td>Great iPhone very snappy experience as apple k...</td>\n",
       "    </tr>\n",
       "    <tr>\n",
       "      <th>3</th>\n",
       "      <td></td>\n",
       "      <td></td>\n",
       "    </tr>\n",
       "    <tr>\n",
       "      <th>4</th>\n",
       "      <td></td>\n",
       "      <td></td>\n",
       "    </tr>\n",
       "    <tr>\n",
       "      <th>5</th>\n",
       "      <td></td>\n",
       "      <td></td>\n",
       "    </tr>\n",
       "    <tr>\n",
       "      <th>6</th>\n",
       "      <td></td>\n",
       "      <td></td>\n",
       "    </tr>\n",
       "    <tr>\n",
       "      <th>7</th>\n",
       "      <td></td>\n",
       "      <td></td>\n",
       "    </tr>\n",
       "    <tr>\n",
       "      <th>8</th>\n",
       "      <td></td>\n",
       "      <td></td>\n",
       "    </tr>\n",
       "    <tr>\n",
       "      <th>9</th>\n",
       "      <td></td>\n",
       "      <td></td>\n",
       "    </tr>\n",
       "  </tbody>\n",
       "</table>\n",
       "</div>"
      ],
      "text/plain": [
       "  glassname1                                          glassmin1\n",
       "0          5  The Best Phone for the Money\\n\\nThe iPhone 11 ...\n",
       "1          5  Really satisfied with the Product I received.....\n",
       "2          5  Great iPhone very snappy experience as apple k...\n",
       "3                                                              \n",
       "4                                                              \n",
       "5                                                              \n",
       "6                                                              \n",
       "7                                                              \n",
       "8                                                              \n",
       "9                                                              "
      ]
     },
     "execution_count": 578,
     "metadata": {},
     "output_type": "execute_result"
    }
   ],
   "source": [
    "applephone=pd.DataFrame({})\n",
    "applephone['glassname1']=apple_ratingg1\n",
    "applephone['glassmin1']=apple_review1\n",
    "applephone"
   ]
  },
  {
   "cell_type": "code",
   "execution_count": null,
   "metadata": {},
   "outputs": [],
   "source": [
    "# Question No =10"
   ]
  },
  {
   "cell_type": "code",
   "execution_count": 63,
   "metadata": {},
   "outputs": [
    {
     "name": "stderr",
     "output_type": "stream",
     "text": [
      "<ipython-input-63-5d2eb37e2d4d>:1: DeprecationWarning: executable_path has been deprecated, please pass in a Service object\n",
      "  driver=webdriver.Chrome(\"chromedriver.exe\")\n"
     ]
    },
    {
     "data": {
      "text/plain": [
       "<selenium.webdriver.chrome.webdriver.WebDriver (session=\"41fd82caf2fd22eb7d0234bb17d3292d\")>"
      ]
     },
     "execution_count": 63,
     "metadata": {},
     "output_type": "execute_result"
    }
   ],
   "source": [
    "driver=webdriver.Chrome(\"chromedriver.exe\")\n",
    "driver"
   ]
  },
  {
   "cell_type": "code",
   "execution_count": 64,
   "metadata": {},
   "outputs": [],
   "source": [
    "laptopurl = \"https://www.amazon.in/\"\n",
    "driver.get(laptopurl)"
   ]
  },
  {
   "cell_type": "code",
   "execution_count": 65,
   "metadata": {},
   "outputs": [
    {
     "data": {
      "text/plain": [
       "<selenium.webdriver.remote.webelement.WebElement (session=\"41fd82caf2fd22eb7d0234bb17d3292d\", element=\"fb483973-f4a0-459a-96e9-a95d554e3f36\")>"
      ]
     },
     "execution_count": 65,
     "metadata": {},
     "output_type": "execute_result"
    }
   ],
   "source": [
    "laptop_job=driver.find_element_by_xpath('//input[@id=\"twotabsearchtextbox\"]')\n",
    "laptop_job"
   ]
  },
  {
   "cell_type": "code",
   "execution_count": 66,
   "metadata": {},
   "outputs": [],
   "source": [
    "laptop_job.send_keys(\"LAPTOP\")"
   ]
  },
  {
   "cell_type": "code",
   "execution_count": 67,
   "metadata": {},
   "outputs": [
    {
     "data": {
      "text/plain": [
       "<selenium.webdriver.remote.webelement.WebElement (session=\"41fd82caf2fd22eb7d0234bb17d3292d\", element=\"5937780b-7761-40ac-b5eb-01753faeb142\")>"
      ]
     },
     "execution_count": 67,
     "metadata": {},
     "output_type": "execute_result"
    }
   ],
   "source": [
    "laptop_button=driver.find_element_by_xpath('//input[@id=\"nav-search-submit-button\"]')\n",
    "laptop_button"
   ]
  },
  {
   "cell_type": "code",
   "execution_count": 68,
   "metadata": {},
   "outputs": [],
   "source": [
    "laptop_button.click()"
   ]
  },
  {
   "cell_type": "code",
   "execution_count": 69,
   "metadata": {},
   "outputs": [
    {
     "data": {
      "text/plain": [
       "<selenium.webdriver.remote.webelement.WebElement (session=\"41fd82caf2fd22eb7d0234bb17d3292d\", element=\"7f01e269-394d-4172-973a-08ab77bba979\")>"
      ]
     },
     "execution_count": 69,
     "metadata": {},
     "output_type": "execute_result"
    }
   ],
   "source": [
    "i7=driver.find_element_by_xpath('//li[@id=\"p_n_feature_thirteen_browse-bin/12598163031\"]')\n",
    "i7"
   ]
  },
  {
   "cell_type": "code",
   "execution_count": 70,
   "metadata": {},
   "outputs": [],
   "source": [
    "i7.click()"
   ]
  },
  {
   "cell_type": "code",
   "execution_count": null,
   "metadata": {},
   "outputs": [],
   "source": []
  },
  {
   "cell_type": "code",
   "execution_count": null,
   "metadata": {},
   "outputs": [],
   "source": []
  }
 ],
 "metadata": {
  "kernelspec": {
   "display_name": "Python 3",
   "language": "python",
   "name": "python3"
  },
  "language_info": {
   "codemirror_mode": {
    "name": "ipython",
    "version": 3
   },
   "file_extension": ".py",
   "mimetype": "text/x-python",
   "name": "python",
   "nbconvert_exporter": "python",
   "pygments_lexer": "ipython3",
   "version": "3.8.5"
  }
 },
 "nbformat": 4,
 "nbformat_minor": 4
}
