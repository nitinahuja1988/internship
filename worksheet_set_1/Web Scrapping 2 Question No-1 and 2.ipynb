{
 "cells": [
  {
   "cell_type": "code",
   "execution_count": null,
   "metadata": {},
   "outputs": [],
   "source": [
    "Q1: Write a python program to scrape data for “Data Analyst” Job position in “Bangalore” location. You have to scrape the job-title, job-location, company_name, experience_required. You have to scrape first 10 jobs data."
   ]
  },
  {
   "cell_type": "code",
   "execution_count": 244,
   "metadata": {},
   "outputs": [
    {
     "name": "stdout",
     "output_type": "stream",
     "text": [
      "Requirement already satisfied: selenium in c:\\users\\lenovo\\anaconda3\\lib\\site-packages (4.0.0b4)\n",
      "Requirement already satisfied: trio-websocket~=0.9 in c:\\users\\lenovo\\anaconda3\\lib\\site-packages (from selenium) (0.9.2)\n",
      "Requirement already satisfied: trio~=0.17 in c:\\users\\lenovo\\anaconda3\\lib\\site-packages (from selenium) (0.19.0)\n",
      "Requirement already satisfied: urllib3[secure]~=1.26 in c:\\users\\lenovo\\anaconda3\\lib\\site-packages (from selenium) (1.26.6)\n",
      "Requirement already satisfied: async-generator>=1.10 in c:\\users\\lenovo\\anaconda3\\lib\\site-packages (from trio-websocket~=0.9->selenium) (1.10)\n",
      "Requirement already satisfied: wsproto>=0.14 in c:\\users\\lenovo\\anaconda3\\lib\\site-packages (from trio-websocket~=0.9->selenium) (1.0.0)\n",
      "Requirement already satisfied: sniffio in c:\\users\\lenovo\\anaconda3\\lib\\site-packages (from trio~=0.17->selenium) (1.2.0)\n",
      "Requirement already satisfied: attrs>=19.2.0 in c:\\users\\lenovo\\anaconda3\\lib\\site-packages (from trio~=0.17->selenium) (20.3.0)\n",
      "Requirement already satisfied: cffi>=1.14; os_name == \"nt\" and implementation_name != \"pypy\" in c:\\users\\lenovo\\anaconda3\\lib\\site-packages (from trio~=0.17->selenium) (1.14.3)\n",
      "Requirement already satisfied: outcome in c:\\users\\lenovo\\anaconda3\\lib\\site-packages (from trio~=0.17->selenium) (1.1.0)\n",
      "Requirement already satisfied: sortedcontainers in c:\\users\\lenovo\\anaconda3\\lib\\site-packages (from trio~=0.17->selenium) (2.2.2)\n",
      "Requirement already satisfied: idna in c:\\users\\lenovo\\anaconda3\\lib\\site-packages (from trio~=0.17->selenium) (2.10)\n",
      "Requirement already satisfied: certifi; extra == \"secure\" in c:\\users\\lenovo\\anaconda3\\lib\\site-packages (from urllib3[secure]~=1.26->selenium) (2020.6.20)\n",
      "Requirement already satisfied: cryptography>=1.3.4; extra == \"secure\" in c:\\users\\lenovo\\anaconda3\\lib\\site-packages (from urllib3[secure]~=1.26->selenium) (3.1.1)\n",
      "Requirement already satisfied: pyOpenSSL>=0.14; extra == \"secure\" in c:\\users\\lenovo\\anaconda3\\lib\\site-packages (from urllib3[secure]~=1.26->selenium) (19.1.0)\n",
      "Requirement already satisfied: h11<1,>=0.9.0 in c:\\users\\lenovo\\anaconda3\\lib\\site-packages (from wsproto>=0.14->trio-websocket~=0.9->selenium) (0.12.0)\n",
      "Requirement already satisfied: pycparser in c:\\users\\lenovo\\anaconda3\\lib\\site-packages (from cffi>=1.14; os_name == \"nt\" and implementation_name != \"pypy\"->trio~=0.17->selenium) (2.20)\n",
      "Requirement already satisfied: six>=1.4.1 in c:\\users\\lenovo\\anaconda3\\lib\\site-packages (from cryptography>=1.3.4; extra == \"secure\"->urllib3[secure]~=1.26->selenium) (1.15.0)\n"
     ]
    }
   ],
   "source": [
    "!pip install selenium\n",
    "\n"
   ]
  },
  {
   "cell_type": "code",
   "execution_count": 245,
   "metadata": {},
   "outputs": [],
   "source": [
    "import selenium\n",
    "import pandas as pd\n",
    "from selenium import webdriver\n",
    "import undetected_chromedriver.v2 as uc\n"
   ]
  },
  {
   "cell_type": "code",
   "execution_count": 246,
   "metadata": {},
   "outputs": [
    {
     "name": "stderr",
     "output_type": "stream",
     "text": [
      "<ipython-input-246-5d2eb37e2d4d>:1: DeprecationWarning: executable_path has been deprecated, please pass in a Service object\n",
      "  driver=webdriver.Chrome(\"chromedriver.exe\")\n"
     ]
    },
    {
     "data": {
      "text/plain": [
       "<selenium.webdriver.chrome.webdriver.WebDriver (session=\"940ed8ff6a65f6650a1c34d02679def2\")>"
      ]
     },
     "execution_count": 246,
     "metadata": {},
     "output_type": "execute_result"
    }
   ],
   "source": [
    "driver=webdriver.Chrome(\"chromedriver.exe\")\n",
    "driver"
   ]
  },
  {
   "cell_type": "code",
   "execution_count": 247,
   "metadata": {},
   "outputs": [],
   "source": [
    "url = 'https://www.naukri.com/'\n",
    "driver.get(url)"
   ]
  },
  {
   "cell_type": "code",
   "execution_count": 248,
   "metadata": {},
   "outputs": [
    {
     "data": {
      "text/plain": [
       "<selenium.webdriver.remote.webelement.WebElement (session=\"940ed8ff6a65f6650a1c34d02679def2\", element=\"a5f7caa4-29bf-4944-be00-cddfaaaad73e\")>"
      ]
     },
     "execution_count": 248,
     "metadata": {},
     "output_type": "execute_result"
    }
   ],
   "source": [
    "Search_job=driver.find_element_by_xpath('//input[@type=\"text\"]')\n",
    "Search_job"
   ]
  },
  {
   "cell_type": "code",
   "execution_count": 249,
   "metadata": {},
   "outputs": [],
   "source": [
    "Search_job.send_keys(\"Data Analyst\")\n"
   ]
  },
  {
   "cell_type": "code",
   "execution_count": 250,
   "metadata": {},
   "outputs": [
    {
     "data": {
      "text/plain": [
       "<selenium.webdriver.remote.webelement.WebElement (session=\"940ed8ff6a65f6650a1c34d02679def2\", element=\"ba101a06-f92f-4b08-b89a-aa226d63b8fb\")>"
      ]
     },
     "execution_count": 250,
     "metadata": {},
     "output_type": "execute_result"
    }
   ],
   "source": [
    "Search_location=driver.find_element_by_id(\"qsb-location-sugg\")\n",
    "Search_location"
   ]
  },
  {
   "cell_type": "code",
   "execution_count": 251,
   "metadata": {},
   "outputs": [],
   "source": [
    "Search_location.send_keys('Bangalore')"
   ]
  },
  {
   "cell_type": "code",
   "execution_count": 252,
   "metadata": {},
   "outputs": [
    {
     "data": {
      "text/plain": [
       "<selenium.webdriver.remote.webelement.WebElement (session=\"940ed8ff6a65f6650a1c34d02679def2\", element=\"cfdb9859-f83c-4f07-a0b0-4800d2cc428d\")>"
      ]
     },
     "execution_count": 252,
     "metadata": {},
     "output_type": "execute_result"
    }
   ],
   "source": [
    "Search_button=driver.find_element_by_xpath('//div[@class=\"search-btn\"]')\n",
    "Search_button"
   ]
  },
  {
   "cell_type": "code",
   "execution_count": 253,
   "metadata": {},
   "outputs": [],
   "source": [
    "Search_button.click()"
   ]
  },
  {
   "cell_type": "code",
   "execution_count": 254,
   "metadata": {},
   "outputs": [
    {
     "name": "stderr",
     "output_type": "stream",
     "text": [
      "C:\\Users\\Lenovo\\anaconda3\\lib\\site-packages\\selenium\\webdriver\\remote\\webdriver.py:502: UserWarning: find_elements_by_* commands are deprecated. Please use find_elements() instead\n",
      "  warnings.warn(\"find_elements_by_* commands are deprecated. Please use find_elements() instead\")\n"
     ]
    },
    {
     "data": {
      "text/plain": [
       "[]"
      ]
     },
     "execution_count": 254,
     "metadata": {},
     "output_type": "execute_result"
    }
   ],
   "source": [
    "job_title=driver.find_elements_by_xpath('//a[@class=\"title fw500 ellipsis\"]')\n",
    "job_title"
   ]
  },
  {
   "cell_type": "code",
   "execution_count": 255,
   "metadata": {},
   "outputs": [
    {
     "data": {
      "text/plain": [
       "[]"
      ]
     },
     "execution_count": 255,
     "metadata": {},
     "output_type": "execute_result"
    }
   ],
   "source": [
    "job_title1 = []\n",
    "for i in job_title:\n",
    "    job_title1.append(i.text)\n",
    "        \n",
    "job_title1"
   ]
  },
  {
   "cell_type": "code",
   "execution_count": 256,
   "metadata": {},
   "outputs": [
    {
     "data": {
      "text/plain": [
       "[<selenium.webdriver.remote.webelement.WebElement (session=\"940ed8ff6a65f6650a1c34d02679def2\", element=\"d90d22fe-74cd-4af6-ab91-d207e1380262\")>,\n",
       " <selenium.webdriver.remote.webelement.WebElement (session=\"940ed8ff6a65f6650a1c34d02679def2\", element=\"3b3543e2-64fc-4954-acf0-2edf250c57d8\")>,\n",
       " <selenium.webdriver.remote.webelement.WebElement (session=\"940ed8ff6a65f6650a1c34d02679def2\", element=\"4805c2bd-ce9f-4e1f-9ae3-7b0553c28c50\")>,\n",
       " <selenium.webdriver.remote.webelement.WebElement (session=\"940ed8ff6a65f6650a1c34d02679def2\", element=\"7843b92c-cb89-4474-9f69-805e8883c7c1\")>,\n",
       " <selenium.webdriver.remote.webelement.WebElement (session=\"940ed8ff6a65f6650a1c34d02679def2\", element=\"8607b10c-75df-4de4-9575-43c4501f26ed\")>,\n",
       " <selenium.webdriver.remote.webelement.WebElement (session=\"940ed8ff6a65f6650a1c34d02679def2\", element=\"07b9cf35-af58-4f1f-a276-bc929e121eb9\")>,\n",
       " <selenium.webdriver.remote.webelement.WebElement (session=\"940ed8ff6a65f6650a1c34d02679def2\", element=\"1a1ec49a-5ea6-4ef2-99e2-c8d93915e818\")>,\n",
       " <selenium.webdriver.remote.webelement.WebElement (session=\"940ed8ff6a65f6650a1c34d02679def2\", element=\"d82e9147-8a7d-48a5-bf7e-7472231bc361\")>,\n",
       " <selenium.webdriver.remote.webelement.WebElement (session=\"940ed8ff6a65f6650a1c34d02679def2\", element=\"9d3668f1-4bcc-4d23-b57e-6b9f6927c830\")>,\n",
       " <selenium.webdriver.remote.webelement.WebElement (session=\"940ed8ff6a65f6650a1c34d02679def2\", element=\"685467df-1920-45b8-b144-805960ac7fac\")>,\n",
       " <selenium.webdriver.remote.webelement.WebElement (session=\"940ed8ff6a65f6650a1c34d02679def2\", element=\"5466e258-d6b1-458b-9afa-243a0a40ffcb\")>,\n",
       " <selenium.webdriver.remote.webelement.WebElement (session=\"940ed8ff6a65f6650a1c34d02679def2\", element=\"e5806d9e-f1bf-477f-9dc7-4236f91de07c\")>,\n",
       " <selenium.webdriver.remote.webelement.WebElement (session=\"940ed8ff6a65f6650a1c34d02679def2\", element=\"58e74215-3470-4626-8993-dc1153915e2c\")>,\n",
       " <selenium.webdriver.remote.webelement.WebElement (session=\"940ed8ff6a65f6650a1c34d02679def2\", element=\"84f1ce76-8816-41e7-b7ae-1b6f0d1eba1c\")>,\n",
       " <selenium.webdriver.remote.webelement.WebElement (session=\"940ed8ff6a65f6650a1c34d02679def2\", element=\"107fa0d7-6a66-4082-924e-09d6dd8368d8\")>,\n",
       " <selenium.webdriver.remote.webelement.WebElement (session=\"940ed8ff6a65f6650a1c34d02679def2\", element=\"3f62b501-cf3c-49da-a688-024138dc861c\")>,\n",
       " <selenium.webdriver.remote.webelement.WebElement (session=\"940ed8ff6a65f6650a1c34d02679def2\", element=\"d116610c-a385-4f21-b826-c5b0a00a0552\")>,\n",
       " <selenium.webdriver.remote.webelement.WebElement (session=\"940ed8ff6a65f6650a1c34d02679def2\", element=\"90bec63f-cd0e-45b0-b5db-935728f9f3ad\")>,\n",
       " <selenium.webdriver.remote.webelement.WebElement (session=\"940ed8ff6a65f6650a1c34d02679def2\", element=\"c1f2ae5d-418e-45e1-9ee4-f4a4d22b39eb\")>,\n",
       " <selenium.webdriver.remote.webelement.WebElement (session=\"940ed8ff6a65f6650a1c34d02679def2\", element=\"016a7b57-61a0-403c-8212-41901d597d54\")>]"
      ]
     },
     "execution_count": 256,
     "metadata": {},
     "output_type": "execute_result"
    }
   ],
   "source": [
    "job_company=driver.find_elements_by_xpath('//a[@class=\"subTitle ellipsis fleft\"]')\n",
    "job_company"
   ]
  },
  {
   "cell_type": "code",
   "execution_count": 257,
   "metadata": {},
   "outputs": [
    {
     "data": {
      "text/plain": [
       "['Gaussian Networks Private Limited',\n",
       " 'Tata Consultancy Services Ltd.',\n",
       " 'Trigent Software',\n",
       " 'Trigent Software',\n",
       " 'Virtusa Consulting Services Pvt Ltd',\n",
       " 'Tata Consultancy Services Ltd.',\n",
       " 'GlaxoSmithKline Pharmaceuticals Limited',\n",
       " 'SYREN TECHNOLOGIES PRIVATE LIMITED',\n",
       " 'McAfee Software (India) Pvt. Ltd',\n",
       " 'Gokaldas Exports Ltd',\n",
       " 'Walmart Labs',\n",
       " 'HyreFox Consultants Pvt Ltd',\n",
       " 'Philips India Limited',\n",
       " 'AECOM India Private Limited',\n",
       " 'IBM India Pvt. Limited',\n",
       " 'INTERTRUST GROUP',\n",
       " 'Empower Retirement',\n",
       " 'Flipkart',\n",
       " 'Flipkart',\n",
       " 'Tesco Bengaluru']"
      ]
     },
     "execution_count": 257,
     "metadata": {},
     "output_type": "execute_result"
    }
   ],
   "source": [
    "job_company1 = []\n",
    "for i in job_company:\n",
    "    job_company1.append(i.text)\n",
    "    \n",
    "job_company1"
   ]
  },
  {
   "cell_type": "code",
   "execution_count": 258,
   "metadata": {},
   "outputs": [
    {
     "data": {
      "text/plain": [
       "[<selenium.webdriver.remote.webelement.WebElement (session=\"940ed8ff6a65f6650a1c34d02679def2\", element=\"fb4df483-358b-4e59-8c53-f43981be7fde\")>,\n",
       " <selenium.webdriver.remote.webelement.WebElement (session=\"940ed8ff6a65f6650a1c34d02679def2\", element=\"3b79aba8-bb9d-41c2-9a9d-7b7e45d470b0\")>,\n",
       " <selenium.webdriver.remote.webelement.WebElement (session=\"940ed8ff6a65f6650a1c34d02679def2\", element=\"b7471e01-4110-4a54-8ae5-04e1f3193e5d\")>,\n",
       " <selenium.webdriver.remote.webelement.WebElement (session=\"940ed8ff6a65f6650a1c34d02679def2\", element=\"8534dc80-684f-47b4-b964-f5161381a625\")>,\n",
       " <selenium.webdriver.remote.webelement.WebElement (session=\"940ed8ff6a65f6650a1c34d02679def2\", element=\"2011b720-3180-4330-898b-8dae466053b2\")>,\n",
       " <selenium.webdriver.remote.webelement.WebElement (session=\"940ed8ff6a65f6650a1c34d02679def2\", element=\"5e3023e4-d8cf-4ca2-8e15-87e68e53bcf7\")>,\n",
       " <selenium.webdriver.remote.webelement.WebElement (session=\"940ed8ff6a65f6650a1c34d02679def2\", element=\"caae7a44-307f-477c-a309-fd3a37d2c710\")>,\n",
       " <selenium.webdriver.remote.webelement.WebElement (session=\"940ed8ff6a65f6650a1c34d02679def2\", element=\"1a9c7b1d-036b-4f7e-8aba-e25b71991269\")>,\n",
       " <selenium.webdriver.remote.webelement.WebElement (session=\"940ed8ff6a65f6650a1c34d02679def2\", element=\"64832e42-83d6-4cbf-b656-998aeea7f81c\")>,\n",
       " <selenium.webdriver.remote.webelement.WebElement (session=\"940ed8ff6a65f6650a1c34d02679def2\", element=\"494c9677-5807-40c2-8dcf-e0ce463a0752\")>,\n",
       " <selenium.webdriver.remote.webelement.WebElement (session=\"940ed8ff6a65f6650a1c34d02679def2\", element=\"2c507cd1-dd32-4edc-9b0f-92120e7a586b\")>,\n",
       " <selenium.webdriver.remote.webelement.WebElement (session=\"940ed8ff6a65f6650a1c34d02679def2\", element=\"b8bb9bf6-96ab-42be-a7e0-275be212aa88\")>,\n",
       " <selenium.webdriver.remote.webelement.WebElement (session=\"940ed8ff6a65f6650a1c34d02679def2\", element=\"0cf7dd0c-74b2-4fec-9ba4-c6553b008169\")>,\n",
       " <selenium.webdriver.remote.webelement.WebElement (session=\"940ed8ff6a65f6650a1c34d02679def2\", element=\"f9453a98-c26b-4106-bbe0-fd55a9d1ddfa\")>,\n",
       " <selenium.webdriver.remote.webelement.WebElement (session=\"940ed8ff6a65f6650a1c34d02679def2\", element=\"12449b49-6fc4-440d-92e3-3bd3ba2a3d11\")>,\n",
       " <selenium.webdriver.remote.webelement.WebElement (session=\"940ed8ff6a65f6650a1c34d02679def2\", element=\"6704cd29-6281-41b7-a27c-4efd55f1f559\")>,\n",
       " <selenium.webdriver.remote.webelement.WebElement (session=\"940ed8ff6a65f6650a1c34d02679def2\", element=\"da2c6e10-369c-4ada-893c-730812b7e63d\")>,\n",
       " <selenium.webdriver.remote.webelement.WebElement (session=\"940ed8ff6a65f6650a1c34d02679def2\", element=\"ca261475-5364-4c45-8f8e-addfcee49aa8\")>,\n",
       " <selenium.webdriver.remote.webelement.WebElement (session=\"940ed8ff6a65f6650a1c34d02679def2\", element=\"af8d9d74-cdc7-484a-9504-ec46ab12539b\")>,\n",
       " <selenium.webdriver.remote.webelement.WebElement (session=\"940ed8ff6a65f6650a1c34d02679def2\", element=\"dbce5591-6e5f-469c-b874-8bdedb49a1b3\")>,\n",
       " <selenium.webdriver.remote.webelement.WebElement (session=\"940ed8ff6a65f6650a1c34d02679def2\", element=\"92a92460-e63a-4433-8da8-e1cca5409ccf\")>,\n",
       " <selenium.webdriver.remote.webelement.WebElement (session=\"940ed8ff6a65f6650a1c34d02679def2\", element=\"278494ec-5eba-440b-96be-886a3921422f\")>]"
      ]
     },
     "execution_count": 258,
     "metadata": {},
     "output_type": "execute_result"
    }
   ],
   "source": [
    "job_location=driver.find_elements_by_xpath('//li[@class=\"fleft grey-text br2 placeHolderLi location\"]//span')\n",
    "job_location"
   ]
  },
  {
   "cell_type": "code",
   "execution_count": 259,
   "metadata": {},
   "outputs": [
    {
     "data": {
      "text/plain": [
       "['Gurgaon/Gurugram, Bangalore/Bengaluru',\n",
       " 'Chennai, Bangalore/Bengaluru',\n",
       " 'Bangalore/Bengaluru',\n",
       " 'Bangalore/Bengaluru',\n",
       " 'Hyderabad/Secunderabad, Pune, Gurgaon/Gurugram, Chennai, Bangalore/Bengaluru, Mumbai (All Areas)',\n",
       " '(WFH during Covid)',\n",
       " 'Chennai, Bangalore/Bengaluru',\n",
       " 'Bangalore/Bengaluru',\n",
       " 'Hyderabad/Secunderabad, Chennai, Bangalore/Bengaluru',\n",
       " '(WFH during Covid)',\n",
       " 'Bangalore/Bengaluru',\n",
       " 'Bangalore/Bengaluru',\n",
       " 'Bangalore/Bengaluru',\n",
       " 'Bangalore/Bengaluru',\n",
       " 'Bangalore/Bengaluru',\n",
       " 'Bangalore/Bengaluru',\n",
       " 'Bengaluru/Bangalore',\n",
       " 'Mumbai, Bangalore/Bengaluru',\n",
       " 'Bangalore/Bengaluru',\n",
       " 'Bangalore/Bengaluru',\n",
       " 'Bangalore/Bengaluru',\n",
       " 'Bangalore/Bengaluru']"
      ]
     },
     "execution_count": 259,
     "metadata": {},
     "output_type": "execute_result"
    }
   ],
   "source": [
    "job_location1 = []\n",
    "for i in job_location:\n",
    "    job_location1.append(i.text)\n",
    "    \n",
    "job_location1"
   ]
  },
  {
   "cell_type": "code",
   "execution_count": 260,
   "metadata": {},
   "outputs": [
    {
     "data": {
      "text/plain": [
       "[<selenium.webdriver.remote.webelement.WebElement (session=\"940ed8ff6a65f6650a1c34d02679def2\", element=\"9f831f5d-a29c-407b-9a3c-19b3faa37205\")>,\n",
       " <selenium.webdriver.remote.webelement.WebElement (session=\"940ed8ff6a65f6650a1c34d02679def2\", element=\"7ed524af-b73d-4a28-bda9-3e23c979f4c3\")>,\n",
       " <selenium.webdriver.remote.webelement.WebElement (session=\"940ed8ff6a65f6650a1c34d02679def2\", element=\"02a3b19e-88a5-4aa7-856b-7a6211d06c25\")>,\n",
       " <selenium.webdriver.remote.webelement.WebElement (session=\"940ed8ff6a65f6650a1c34d02679def2\", element=\"625b7964-99ae-472c-92ca-2c568d261a82\")>,\n",
       " <selenium.webdriver.remote.webelement.WebElement (session=\"940ed8ff6a65f6650a1c34d02679def2\", element=\"53187c28-0d69-4e36-a921-16eac1b1c944\")>,\n",
       " <selenium.webdriver.remote.webelement.WebElement (session=\"940ed8ff6a65f6650a1c34d02679def2\", element=\"9dc4f5db-1aaa-4708-9452-b01396495c8f\")>,\n",
       " <selenium.webdriver.remote.webelement.WebElement (session=\"940ed8ff6a65f6650a1c34d02679def2\", element=\"bccda9e1-a827-427e-a8a9-b376615e873e\")>,\n",
       " <selenium.webdriver.remote.webelement.WebElement (session=\"940ed8ff6a65f6650a1c34d02679def2\", element=\"141b1953-86b8-4441-9dcb-fff77c299ee3\")>,\n",
       " <selenium.webdriver.remote.webelement.WebElement (session=\"940ed8ff6a65f6650a1c34d02679def2\", element=\"66bcb76e-262d-49e9-bf0f-fb341c5edc13\")>,\n",
       " <selenium.webdriver.remote.webelement.WebElement (session=\"940ed8ff6a65f6650a1c34d02679def2\", element=\"b8e94483-dcb6-4b67-8e7f-0bdf720e0cd6\")>,\n",
       " <selenium.webdriver.remote.webelement.WebElement (session=\"940ed8ff6a65f6650a1c34d02679def2\", element=\"1bcda6ac-0bff-49aa-ba9a-317fad09f85e\")>,\n",
       " <selenium.webdriver.remote.webelement.WebElement (session=\"940ed8ff6a65f6650a1c34d02679def2\", element=\"5336d892-a3b5-46fe-b0ad-cba5a322e195\")>,\n",
       " <selenium.webdriver.remote.webelement.WebElement (session=\"940ed8ff6a65f6650a1c34d02679def2\", element=\"361247fb-9337-487b-ab2a-2479dfe58bb8\")>,\n",
       " <selenium.webdriver.remote.webelement.WebElement (session=\"940ed8ff6a65f6650a1c34d02679def2\", element=\"81747e5b-8a39-40de-92fc-cd70ab4bbc4a\")>,\n",
       " <selenium.webdriver.remote.webelement.WebElement (session=\"940ed8ff6a65f6650a1c34d02679def2\", element=\"077df5cd-1d57-4413-be3c-91c724ffe3cf\")>,\n",
       " <selenium.webdriver.remote.webelement.WebElement (session=\"940ed8ff6a65f6650a1c34d02679def2\", element=\"10bc3ee8-d281-48ba-baf3-883db10e0495\")>,\n",
       " <selenium.webdriver.remote.webelement.WebElement (session=\"940ed8ff6a65f6650a1c34d02679def2\", element=\"b0070d6a-c09f-4a89-8014-def72b4431c7\")>,\n",
       " <selenium.webdriver.remote.webelement.WebElement (session=\"940ed8ff6a65f6650a1c34d02679def2\", element=\"7cc9fcdf-141d-4e8b-b200-c31e573ba49a\")>,\n",
       " <selenium.webdriver.remote.webelement.WebElement (session=\"940ed8ff6a65f6650a1c34d02679def2\", element=\"732bba0c-6857-4067-aba8-883780dec857\")>,\n",
       " <selenium.webdriver.remote.webelement.WebElement (session=\"940ed8ff6a65f6650a1c34d02679def2\", element=\"b94a486d-b6ca-4a6c-ac62-953d6b0d3877\")>]"
      ]
     },
     "execution_count": 260,
     "metadata": {},
     "output_type": "execute_result"
    }
   ],
   "source": [
    "job_exp=driver.find_elements_by_xpath('//li[@class=\"fleft grey-text br2 placeHolderLi experience\"]//span')\n",
    "job_exp"
   ]
  },
  {
   "cell_type": "code",
   "execution_count": 261,
   "metadata": {},
   "outputs": [
    {
     "data": {
      "text/plain": [
       "['3-5 Yrs',\n",
       " '6-11 Yrs',\n",
       " '5-10 Yrs',\n",
       " '5-10 Yrs',\n",
       " '8-12 Yrs',\n",
       " '6-11 Yrs',\n",
       " '4-8 Yrs',\n",
       " '4-9 Yrs',\n",
       " '6-8 Yrs',\n",
       " '0-3 Yrs',\n",
       " '8-10 Yrs',\n",
       " '5-7 Yrs',\n",
       " '3-6 Yrs',\n",
       " '2-7 Yrs',\n",
       " '1-4 Yrs',\n",
       " '3-8 Yrs',\n",
       " '5-8 Yrs',\n",
       " '2-3 Yrs',\n",
       " '3-8 Yrs',\n",
       " '2-4 Yrs']"
      ]
     },
     "execution_count": 261,
     "metadata": {},
     "output_type": "execute_result"
    }
   ],
   "source": [
    "job_exp1 = []\n",
    "for i in job_exp:\n",
    "    job_exp1.append(i.text)\n",
    "    \n",
    "job_exp1"
   ]
  },
  {
   "cell_type": "code",
   "execution_count": 262,
   "metadata": {},
   "outputs": [
    {
     "data": {
      "text/html": [
       "<div>\n",
       "<style scoped>\n",
       "    .dataframe tbody tr th:only-of-type {\n",
       "        vertical-align: middle;\n",
       "    }\n",
       "\n",
       "    .dataframe tbody tr th {\n",
       "        vertical-align: top;\n",
       "    }\n",
       "\n",
       "    .dataframe thead th {\n",
       "        text-align: right;\n",
       "    }\n",
       "</style>\n",
       "<table border=\"1\" class=\"dataframe\">\n",
       "  <thead>\n",
       "    <tr style=\"text-align: right;\">\n",
       "      <th></th>\n",
       "      <th>jobtitle1</th>\n",
       "      <th>jobcompany1</th>\n",
       "      <th>joblocation1</th>\n",
       "      <th>jobexp1</th>\n",
       "    </tr>\n",
       "  </thead>\n",
       "  <tbody>\n",
       "    <tr>\n",
       "      <th>0</th>\n",
       "      <td>NaN</td>\n",
       "      <td>Gaussian Networks Private Limited</td>\n",
       "      <td>Gurgaon/Gurugram, Bangalore/Bengaluru</td>\n",
       "      <td>3-5 Yrs</td>\n",
       "    </tr>\n",
       "    <tr>\n",
       "      <th>1</th>\n",
       "      <td>NaN</td>\n",
       "      <td>Tata Consultancy Services Ltd.</td>\n",
       "      <td>Chennai, Bangalore/Bengaluru</td>\n",
       "      <td>6-11 Yrs</td>\n",
       "    </tr>\n",
       "    <tr>\n",
       "      <th>2</th>\n",
       "      <td>NaN</td>\n",
       "      <td>Trigent Software</td>\n",
       "      <td>Bangalore/Bengaluru</td>\n",
       "      <td>5-10 Yrs</td>\n",
       "    </tr>\n",
       "    <tr>\n",
       "      <th>3</th>\n",
       "      <td>NaN</td>\n",
       "      <td>Trigent Software</td>\n",
       "      <td>Bangalore/Bengaluru</td>\n",
       "      <td>5-10 Yrs</td>\n",
       "    </tr>\n",
       "    <tr>\n",
       "      <th>4</th>\n",
       "      <td>NaN</td>\n",
       "      <td>Virtusa Consulting Services Pvt Ltd</td>\n",
       "      <td>Hyderabad/Secunderabad, Pune, Gurgaon/Gurugram...</td>\n",
       "      <td>8-12 Yrs</td>\n",
       "    </tr>\n",
       "    <tr>\n",
       "      <th>5</th>\n",
       "      <td>NaN</td>\n",
       "      <td>Tata Consultancy Services Ltd.</td>\n",
       "      <td>(WFH during Covid)</td>\n",
       "      <td>6-11 Yrs</td>\n",
       "    </tr>\n",
       "    <tr>\n",
       "      <th>6</th>\n",
       "      <td>NaN</td>\n",
       "      <td>GlaxoSmithKline Pharmaceuticals Limited</td>\n",
       "      <td>Chennai, Bangalore/Bengaluru</td>\n",
       "      <td>4-8 Yrs</td>\n",
       "    </tr>\n",
       "    <tr>\n",
       "      <th>7</th>\n",
       "      <td>NaN</td>\n",
       "      <td>SYREN TECHNOLOGIES PRIVATE LIMITED</td>\n",
       "      <td>Bangalore/Bengaluru</td>\n",
       "      <td>4-9 Yrs</td>\n",
       "    </tr>\n",
       "    <tr>\n",
       "      <th>8</th>\n",
       "      <td>NaN</td>\n",
       "      <td>McAfee Software (India) Pvt. Ltd</td>\n",
       "      <td>Hyderabad/Secunderabad, Chennai, Bangalore/Ben...</td>\n",
       "      <td>6-8 Yrs</td>\n",
       "    </tr>\n",
       "    <tr>\n",
       "      <th>9</th>\n",
       "      <td>NaN</td>\n",
       "      <td>Gokaldas Exports Ltd</td>\n",
       "      <td>(WFH during Covid)</td>\n",
       "      <td>0-3 Yrs</td>\n",
       "    </tr>\n",
       "  </tbody>\n",
       "</table>\n",
       "</div>"
      ],
      "text/plain": [
       "   jobtitle1                              jobcompany1  \\\n",
       "0        NaN        Gaussian Networks Private Limited   \n",
       "1        NaN           Tata Consultancy Services Ltd.   \n",
       "2        NaN                         Trigent Software   \n",
       "3        NaN                         Trigent Software   \n",
       "4        NaN      Virtusa Consulting Services Pvt Ltd   \n",
       "5        NaN           Tata Consultancy Services Ltd.   \n",
       "6        NaN  GlaxoSmithKline Pharmaceuticals Limited   \n",
       "7        NaN       SYREN TECHNOLOGIES PRIVATE LIMITED   \n",
       "8        NaN         McAfee Software (India) Pvt. Ltd   \n",
       "9        NaN                     Gokaldas Exports Ltd   \n",
       "\n",
       "                                        joblocation1   jobexp1  \n",
       "0              Gurgaon/Gurugram, Bangalore/Bengaluru   3-5 Yrs  \n",
       "1                       Chennai, Bangalore/Bengaluru  6-11 Yrs  \n",
       "2                                Bangalore/Bengaluru  5-10 Yrs  \n",
       "3                                Bangalore/Bengaluru  5-10 Yrs  \n",
       "4  Hyderabad/Secunderabad, Pune, Gurgaon/Gurugram...  8-12 Yrs  \n",
       "5                                 (WFH during Covid)  6-11 Yrs  \n",
       "6                       Chennai, Bangalore/Bengaluru   4-8 Yrs  \n",
       "7                                Bangalore/Bengaluru   4-9 Yrs  \n",
       "8  Hyderabad/Secunderabad, Chennai, Bangalore/Ben...   6-8 Yrs  \n",
       "9                                 (WFH during Covid)   0-3 Yrs  "
      ]
     },
     "execution_count": 262,
     "metadata": {},
     "output_type": "execute_result"
    }
   ],
   "source": [
    "topjobs=pd.DataFrame({})\n",
    "topjobs['jobtitle1']=job_title1[:10]\n",
    "topjobs['jobcompany1']=job_company1[:10]\n",
    "topjobs['joblocation1']=job_location1[:10]\n",
    "topjobs['jobexp1']=job_exp1[:10]\n",
    "\n",
    "topjobs"
   ]
  },
  {
   "cell_type": "code",
   "execution_count": 263,
   "metadata": {},
   "outputs": [],
   "source": [
    "Q2: Write a python program to scrape data for “Data Scientist” Job position in “Bangalore” location. You have to scrape the job-title, job-location, company_name, full job-description. You have to scrape first 10 jobs data."
   ]
  },
  {
   "cell_type": "code",
   "execution_count": 264,
   "metadata": {},
   "outputs": [
    {
     "name": "stderr",
     "output_type": "stream",
     "text": [
      "<ipython-input-264-5d2eb37e2d4d>:1: DeprecationWarning: executable_path has been deprecated, please pass in a Service object\n",
      "  driver=webdriver.Chrome(\"chromedriver.exe\")\n"
     ]
    },
    {
     "data": {
      "text/plain": [
       "<selenium.webdriver.chrome.webdriver.WebDriver (session=\"be12d74202e30142ecfa3c7526704a92\")>"
      ]
     },
     "execution_count": 264,
     "metadata": {},
     "output_type": "execute_result"
    }
   ],
   "source": [
    "driver=webdriver.Chrome(\"chromedriver.exe\")\n",
    "driver"
   ]
  },
  {
   "cell_type": "code",
   "execution_count": 265,
   "metadata": {},
   "outputs": [],
   "source": [
    "url = 'https://www.naukri.com/'\n",
    "driver.get(url)"
   ]
  },
  {
   "cell_type": "code",
   "execution_count": 266,
   "metadata": {},
   "outputs": [
    {
     "name": "stderr",
     "output_type": "stream",
     "text": [
      "C:\\Users\\Lenovo\\anaconda3\\lib\\site-packages\\selenium\\webdriver\\remote\\webdriver.py:483: UserWarning: find_element_by_* commands are deprecated. Please use find_element() instead\n",
      "  warnings.warn(\"find_element_by_* commands are deprecated. Please use find_element() instead\")\n"
     ]
    },
    {
     "data": {
      "text/plain": [
       "<selenium.webdriver.remote.webelement.WebElement (session=\"be12d74202e30142ecfa3c7526704a92\", element=\"9ead0c4b-1f10-439e-9dd8-d33f4d0630c4\")>"
      ]
     },
     "execution_count": 266,
     "metadata": {},
     "output_type": "execute_result"
    }
   ],
   "source": [
    "Search_job1=driver.find_element_by_xpath('//input[@type=\"text\"]')\n",
    "Search_job1"
   ]
  },
  {
   "cell_type": "code",
   "execution_count": 267,
   "metadata": {},
   "outputs": [],
   "source": [
    "Search_job1.send_keys(\"Data Scientist\")"
   ]
  },
  {
   "cell_type": "code",
   "execution_count": 268,
   "metadata": {},
   "outputs": [
    {
     "name": "stderr",
     "output_type": "stream",
     "text": [
      "C:\\Users\\Lenovo\\anaconda3\\lib\\site-packages\\selenium\\webdriver\\remote\\webdriver.py:443: UserWarning: find_element_by_* commands are deprecated. Please use find_element() instead\n",
      "  warnings.warn(\"find_element_by_* commands are deprecated. Please use find_element() instead\")\n"
     ]
    },
    {
     "data": {
      "text/plain": [
       "<selenium.webdriver.remote.webelement.WebElement (session=\"be12d74202e30142ecfa3c7526704a92\", element=\"c86fb4f8-08c1-4b36-8c5b-89a6219c0447\")>"
      ]
     },
     "execution_count": 268,
     "metadata": {},
     "output_type": "execute_result"
    }
   ],
   "source": [
    "Search_location1=driver.find_element_by_id(\"qsb-location-sugg\")\n",
    "Search_location1"
   ]
  },
  {
   "cell_type": "code",
   "execution_count": 269,
   "metadata": {},
   "outputs": [],
   "source": [
    "Search_location1.send_keys('Bangalore')"
   ]
  },
  {
   "cell_type": "code",
   "execution_count": 270,
   "metadata": {},
   "outputs": [
    {
     "data": {
      "text/plain": [
       "<selenium.webdriver.remote.webelement.WebElement (session=\"be12d74202e30142ecfa3c7526704a92\", element=\"8823f4ee-6275-4ca3-9f54-9c2c445581f8\")>"
      ]
     },
     "execution_count": 270,
     "metadata": {},
     "output_type": "execute_result"
    }
   ],
   "source": [
    "Search_button1=driver.find_element_by_xpath('//div[@class=\"search-btn\"]')\n",
    "Search_button1"
   ]
  },
  {
   "cell_type": "code",
   "execution_count": 271,
   "metadata": {},
   "outputs": [],
   "source": [
    "Search_button1.click()"
   ]
  },
  {
   "cell_type": "code",
   "execution_count": 272,
   "metadata": {},
   "outputs": [
    {
     "name": "stderr",
     "output_type": "stream",
     "text": [
      "C:\\Users\\Lenovo\\anaconda3\\lib\\site-packages\\selenium\\webdriver\\remote\\webdriver.py:502: UserWarning: find_elements_by_* commands are deprecated. Please use find_elements() instead\n",
      "  warnings.warn(\"find_elements_by_* commands are deprecated. Please use find_elements() instead\")\n"
     ]
    },
    {
     "data": {
      "text/plain": [
       "[]"
      ]
     },
     "execution_count": 272,
     "metadata": {},
     "output_type": "execute_result"
    }
   ],
   "source": [
    "job_title10=driver.find_elements_by_xpath('//a[@class=\"title fw500 ellipsis\"]')\n",
    "job_title10"
   ]
  },
  {
   "cell_type": "code",
   "execution_count": 273,
   "metadata": {},
   "outputs": [
    {
     "data": {
      "text/plain": [
       "[]"
      ]
     },
     "execution_count": 273,
     "metadata": {},
     "output_type": "execute_result"
    }
   ],
   "source": [
    "job_title11 = []\n",
    "for i in job_title10:\n",
    "    job_title11.append(i.text)\n",
    "        \n",
    "job_title11"
   ]
  },
  {
   "cell_type": "code",
   "execution_count": 274,
   "metadata": {},
   "outputs": [
    {
     "data": {
      "text/plain": [
       "[<selenium.webdriver.remote.webelement.WebElement (session=\"be12d74202e30142ecfa3c7526704a92\", element=\"86361432-51a4-456b-80ba-0073ddb5307b\")>,\n",
       " <selenium.webdriver.remote.webelement.WebElement (session=\"be12d74202e30142ecfa3c7526704a92\", element=\"2fa618c3-de1b-423c-bdbf-3445f6f19a60\")>,\n",
       " <selenium.webdriver.remote.webelement.WebElement (session=\"be12d74202e30142ecfa3c7526704a92\", element=\"d24408f8-d2f1-40a0-b738-3f0731594653\")>,\n",
       " <selenium.webdriver.remote.webelement.WebElement (session=\"be12d74202e30142ecfa3c7526704a92\", element=\"96cdf8b5-01fa-4be8-bb6e-d79b869c3d6b\")>,\n",
       " <selenium.webdriver.remote.webelement.WebElement (session=\"be12d74202e30142ecfa3c7526704a92\", element=\"27b0923c-5ef3-4afc-a658-ea4097a279d4\")>,\n",
       " <selenium.webdriver.remote.webelement.WebElement (session=\"be12d74202e30142ecfa3c7526704a92\", element=\"92c4cf01-6f9d-4e0c-bf80-e2a85eef70ae\")>,\n",
       " <selenium.webdriver.remote.webelement.WebElement (session=\"be12d74202e30142ecfa3c7526704a92\", element=\"5211992c-897e-4f7b-a499-7af103ff60c8\")>,\n",
       " <selenium.webdriver.remote.webelement.WebElement (session=\"be12d74202e30142ecfa3c7526704a92\", element=\"4fdbb433-c361-4b38-9eaf-808087330c94\")>,\n",
       " <selenium.webdriver.remote.webelement.WebElement (session=\"be12d74202e30142ecfa3c7526704a92\", element=\"5acd73b7-9884-42d5-9e99-3cf88eeb210f\")>,\n",
       " <selenium.webdriver.remote.webelement.WebElement (session=\"be12d74202e30142ecfa3c7526704a92\", element=\"f3fc6e88-b439-4c22-b7cd-8465b0120c93\")>,\n",
       " <selenium.webdriver.remote.webelement.WebElement (session=\"be12d74202e30142ecfa3c7526704a92\", element=\"5bd83983-e320-4043-9616-f38a7d4f1f3a\")>,\n",
       " <selenium.webdriver.remote.webelement.WebElement (session=\"be12d74202e30142ecfa3c7526704a92\", element=\"ada46a5b-61ed-4579-b895-c98bf1426aba\")>,\n",
       " <selenium.webdriver.remote.webelement.WebElement (session=\"be12d74202e30142ecfa3c7526704a92\", element=\"dc4b1c4c-2b9b-4609-a4c9-7b731fb16d42\")>,\n",
       " <selenium.webdriver.remote.webelement.WebElement (session=\"be12d74202e30142ecfa3c7526704a92\", element=\"445d49bd-f86e-4fc2-9bdb-78f2b33bfcb7\")>,\n",
       " <selenium.webdriver.remote.webelement.WebElement (session=\"be12d74202e30142ecfa3c7526704a92\", element=\"d5552c6f-02d4-49d4-956f-08b182348c16\")>,\n",
       " <selenium.webdriver.remote.webelement.WebElement (session=\"be12d74202e30142ecfa3c7526704a92\", element=\"69f9aa99-175b-4f51-bebf-53d464b94fb4\")>,\n",
       " <selenium.webdriver.remote.webelement.WebElement (session=\"be12d74202e30142ecfa3c7526704a92\", element=\"81d4aa94-e238-4223-86a9-eb9141ebeb15\")>,\n",
       " <selenium.webdriver.remote.webelement.WebElement (session=\"be12d74202e30142ecfa3c7526704a92\", element=\"ed71ea50-dfd2-4f17-84ab-4a67db3b31ed\")>,\n",
       " <selenium.webdriver.remote.webelement.WebElement (session=\"be12d74202e30142ecfa3c7526704a92\", element=\"a1a55691-51c1-493d-b72c-bdde269039a6\")>,\n",
       " <selenium.webdriver.remote.webelement.WebElement (session=\"be12d74202e30142ecfa3c7526704a92\", element=\"fb56b97a-262f-41a0-a8e4-5d8b92a4cd8f\")>]"
      ]
     },
     "execution_count": 274,
     "metadata": {},
     "output_type": "execute_result"
    }
   ],
   "source": [
    "job_company10=driver.find_elements_by_xpath('//a[@class=\"subTitle ellipsis fleft\"]')\n",
    "job_company10"
   ]
  },
  {
   "cell_type": "code",
   "execution_count": 275,
   "metadata": {},
   "outputs": [
    {
     "data": {
      "text/plain": [
       "['Tata Consultancy Services Ltd.',\n",
       " 'IBM India Pvt. Limited',\n",
       " 'Philips India Limited',\n",
       " 'Brillio',\n",
       " 'Allegis Services India Pvt. Ltd.',\n",
       " 'Allegis Services India Pvt. Ltd.',\n",
       " 'IBM India Pvt. Limited',\n",
       " 'Walmart Labs',\n",
       " 'Airbnb',\n",
       " 'IBM India Pvt. Limited',\n",
       " 'IBM India Pvt. Limited',\n",
       " 'Happiest Minds Technologies Pvt.Ltd',\n",
       " 'Walmart Labs',\n",
       " 'Walmart Labs',\n",
       " 'Vision Beyond Resources India Private Limited',\n",
       " 'CRISIL LIMITED',\n",
       " 'AVE-Promagne',\n",
       " 'Wrackle Technologies Pvt Ltd',\n",
       " 'Evalueserve.com Pvt. Ltd',\n",
       " 'CRESCENDO GLOBAL LEADERSHIP HIRING INDIA PRIVATE L IMITED']"
      ]
     },
     "execution_count": 275,
     "metadata": {},
     "output_type": "execute_result"
    }
   ],
   "source": [
    "job_company11 = []\n",
    "for i in job_company10:\n",
    "    job_company11.append(i.text)\n",
    "        \n",
    "job_company11"
   ]
  },
  {
   "cell_type": "code",
   "execution_count": 276,
   "metadata": {},
   "outputs": [
    {
     "data": {
      "text/plain": [
       "[<selenium.webdriver.remote.webelement.WebElement (session=\"be12d74202e30142ecfa3c7526704a92\", element=\"3316a8bc-250b-4791-9c0e-c6aa5b3af397\")>,\n",
       " <selenium.webdriver.remote.webelement.WebElement (session=\"be12d74202e30142ecfa3c7526704a92\", element=\"79d6f2aa-1ea2-4d35-9467-5ce9b7182eee\")>,\n",
       " <selenium.webdriver.remote.webelement.WebElement (session=\"be12d74202e30142ecfa3c7526704a92\", element=\"5da199ad-b07c-4d52-9eb5-223cfafa0155\")>,\n",
       " <selenium.webdriver.remote.webelement.WebElement (session=\"be12d74202e30142ecfa3c7526704a92\", element=\"1ef3a1e9-67a9-4558-baaa-ad55a5a2b00c\")>,\n",
       " <selenium.webdriver.remote.webelement.WebElement (session=\"be12d74202e30142ecfa3c7526704a92\", element=\"327ebd45-4bda-4cb2-aa28-01f7e1c1a942\")>,\n",
       " <selenium.webdriver.remote.webelement.WebElement (session=\"be12d74202e30142ecfa3c7526704a92\", element=\"097727d3-98d1-44b0-9026-594f67db8641\")>,\n",
       " <selenium.webdriver.remote.webelement.WebElement (session=\"be12d74202e30142ecfa3c7526704a92\", element=\"8edb41c9-6b3d-4be5-b4a4-24433c39dd89\")>,\n",
       " <selenium.webdriver.remote.webelement.WebElement (session=\"be12d74202e30142ecfa3c7526704a92\", element=\"562611d1-2251-45ba-a67e-afc63323cae0\")>,\n",
       " <selenium.webdriver.remote.webelement.WebElement (session=\"be12d74202e30142ecfa3c7526704a92\", element=\"2c5b2bc4-a59b-4b3f-b856-eb86abad92a0\")>,\n",
       " <selenium.webdriver.remote.webelement.WebElement (session=\"be12d74202e30142ecfa3c7526704a92\", element=\"68689202-2668-4fb8-83ef-6e6f68b8a66d\")>,\n",
       " <selenium.webdriver.remote.webelement.WebElement (session=\"be12d74202e30142ecfa3c7526704a92\", element=\"0e7c1d3c-1cbc-46c5-8d30-0daf120b52ac\")>,\n",
       " <selenium.webdriver.remote.webelement.WebElement (session=\"be12d74202e30142ecfa3c7526704a92\", element=\"90952fa1-ca43-4ae1-8558-0de4e36eab4e\")>,\n",
       " <selenium.webdriver.remote.webelement.WebElement (session=\"be12d74202e30142ecfa3c7526704a92\", element=\"73b7fe00-4cc2-4eb8-b928-c177686b7d60\")>,\n",
       " <selenium.webdriver.remote.webelement.WebElement (session=\"be12d74202e30142ecfa3c7526704a92\", element=\"5632025b-a01d-403a-aa8e-a8ac69bab825\")>,\n",
       " <selenium.webdriver.remote.webelement.WebElement (session=\"be12d74202e30142ecfa3c7526704a92\", element=\"4fdac878-40db-45f9-8cc9-f38d1001b5b8\")>,\n",
       " <selenium.webdriver.remote.webelement.WebElement (session=\"be12d74202e30142ecfa3c7526704a92\", element=\"73b5de99-5442-475b-b2d8-eca7a9341a5f\")>,\n",
       " <selenium.webdriver.remote.webelement.WebElement (session=\"be12d74202e30142ecfa3c7526704a92\", element=\"3a5871ad-8776-4723-b1ae-4acdc1a03178\")>,\n",
       " <selenium.webdriver.remote.webelement.WebElement (session=\"be12d74202e30142ecfa3c7526704a92\", element=\"fa6565bb-3911-40d2-9065-40023ed07bcb\")>,\n",
       " <selenium.webdriver.remote.webelement.WebElement (session=\"be12d74202e30142ecfa3c7526704a92\", element=\"fdd120f2-b96c-47a6-8588-7f843e8d51c7\")>,\n",
       " <selenium.webdriver.remote.webelement.WebElement (session=\"be12d74202e30142ecfa3c7526704a92\", element=\"dcb2a48a-2e78-4a35-be60-273ea6cdaa36\")>,\n",
       " <selenium.webdriver.remote.webelement.WebElement (session=\"be12d74202e30142ecfa3c7526704a92\", element=\"df0c2b35-57ed-40b1-bf59-162660e7ce9f\")>]"
      ]
     },
     "execution_count": 276,
     "metadata": {},
     "output_type": "execute_result"
    }
   ],
   "source": [
    "job_location10=driver.find_elements_by_xpath('//li[@class=\"fleft grey-text br2 placeHolderLi location\"]//span')\n",
    "job_location10"
   ]
  },
  {
   "cell_type": "code",
   "execution_count": 277,
   "metadata": {},
   "outputs": [
    {
     "data": {
      "text/plain": [
       "['Chennai, Bangalore/Bengaluru, Mumbai (All Areas)',\n",
       " '(WFH during Covid)',\n",
       " 'Bengaluru/Bangalore',\n",
       " 'Bangalore/Bengaluru',\n",
       " 'Bangalore/Bengaluru',\n",
       " 'Bangalore/Bengaluru',\n",
       " 'Bangalore/Bengaluru',\n",
       " 'Bengaluru/Bangalore',\n",
       " 'Bangalore/Bengaluru',\n",
       " 'Bangalore/Bengaluru',\n",
       " 'Bengaluru/Bangalore',\n",
       " 'Bangalore/Bengaluru',\n",
       " 'Bangalore/Bengaluru',\n",
       " 'Bangalore/Bengaluru',\n",
       " 'Bangalore/Bengaluru',\n",
       " 'Noida, Mumbai, New Delhi, Gurgaon/Gurugram, Bangalore/Bengaluru',\n",
       " 'Bangalore/Bengaluru, Mumbai (All Areas)',\n",
       " 'Hyderabad/Secunderabad, Chennai, Bangalore/Bengaluru',\n",
       " 'Bangalore/Bengaluru',\n",
       " 'Gurgaon/Gurugram, Bangalore/Bengaluru',\n",
       " 'Bangalore/Bengaluru, Delhi / NCR, Mumbai (All Areas)']"
      ]
     },
     "execution_count": 277,
     "metadata": {},
     "output_type": "execute_result"
    }
   ],
   "source": [
    "job_location11 = []\n",
    "for i in job_location10:\n",
    "    job_location11.append(i.text)\n",
    "    \n",
    "job_location11"
   ]
  },
  {
   "cell_type": "code",
   "execution_count": 278,
   "metadata": {},
   "outputs": [
    {
     "data": {
      "text/plain": [
       "[<selenium.webdriver.remote.webelement.WebElement (session=\"be12d74202e30142ecfa3c7526704a92\", element=\"d1fe3869-13d6-4bd1-986f-a432de76a1e7\")>,\n",
       " <selenium.webdriver.remote.webelement.WebElement (session=\"be12d74202e30142ecfa3c7526704a92\", element=\"ec398c38-a917-4fb4-a1a7-33a2694e0e61\")>,\n",
       " <selenium.webdriver.remote.webelement.WebElement (session=\"be12d74202e30142ecfa3c7526704a92\", element=\"4ccd03ef-2192-4257-8f1c-5a58a6016d7c\")>,\n",
       " <selenium.webdriver.remote.webelement.WebElement (session=\"be12d74202e30142ecfa3c7526704a92\", element=\"1031230f-f490-45bd-939d-1c1ccc6cdbbc\")>,\n",
       " <selenium.webdriver.remote.webelement.WebElement (session=\"be12d74202e30142ecfa3c7526704a92\", element=\"324cbad8-ab65-4f2b-a29d-1804f41d3219\")>,\n",
       " <selenium.webdriver.remote.webelement.WebElement (session=\"be12d74202e30142ecfa3c7526704a92\", element=\"ff4bf0cb-89b4-4f1d-ba45-196756905cb9\")>,\n",
       " <selenium.webdriver.remote.webelement.WebElement (session=\"be12d74202e30142ecfa3c7526704a92\", element=\"7b2d3922-9fc2-48e0-90c8-6c2bfbc2289d\")>,\n",
       " <selenium.webdriver.remote.webelement.WebElement (session=\"be12d74202e30142ecfa3c7526704a92\", element=\"8e5fbabe-f6eb-4c64-b143-33073aefe769\")>,\n",
       " <selenium.webdriver.remote.webelement.WebElement (session=\"be12d74202e30142ecfa3c7526704a92\", element=\"d0df61f3-6a7f-4741-9fdb-6e02e4dd9c52\")>,\n",
       " <selenium.webdriver.remote.webelement.WebElement (session=\"be12d74202e30142ecfa3c7526704a92\", element=\"d001e0b8-2b0f-41b5-bbec-932c469b264e\")>,\n",
       " <selenium.webdriver.remote.webelement.WebElement (session=\"be12d74202e30142ecfa3c7526704a92\", element=\"997ff6b8-c1be-41aa-8e98-4b5b1f675747\")>,\n",
       " <selenium.webdriver.remote.webelement.WebElement (session=\"be12d74202e30142ecfa3c7526704a92\", element=\"33cb3a33-5be6-49b0-86c0-ab761460f3b4\")>,\n",
       " <selenium.webdriver.remote.webelement.WebElement (session=\"be12d74202e30142ecfa3c7526704a92\", element=\"2a371372-99ca-4bf4-81c6-d37482703ea3\")>,\n",
       " <selenium.webdriver.remote.webelement.WebElement (session=\"be12d74202e30142ecfa3c7526704a92\", element=\"9898dee6-e3c4-4166-b7a0-03ac36f37b30\")>,\n",
       " <selenium.webdriver.remote.webelement.WebElement (session=\"be12d74202e30142ecfa3c7526704a92\", element=\"d516fad2-8f99-45ab-b0f6-56016945e22d\")>,\n",
       " <selenium.webdriver.remote.webelement.WebElement (session=\"be12d74202e30142ecfa3c7526704a92\", element=\"6521e6b1-1e20-48f9-b6a3-c71370548a7b\")>,\n",
       " <selenium.webdriver.remote.webelement.WebElement (session=\"be12d74202e30142ecfa3c7526704a92\", element=\"6c9c22f6-f384-445d-84be-52d2f3d7564c\")>,\n",
       " <selenium.webdriver.remote.webelement.WebElement (session=\"be12d74202e30142ecfa3c7526704a92\", element=\"ce9e2b58-86b4-4c77-8a16-a19445a4a840\")>,\n",
       " <selenium.webdriver.remote.webelement.WebElement (session=\"be12d74202e30142ecfa3c7526704a92\", element=\"a453f916-9291-4c28-a939-1e1f655e8bc6\")>,\n",
       " <selenium.webdriver.remote.webelement.WebElement (session=\"be12d74202e30142ecfa3c7526704a92\", element=\"1f96e3d1-35cd-4c1f-949c-717a70e05be5\")>]"
      ]
     },
     "execution_count": 278,
     "metadata": {},
     "output_type": "execute_result"
    }
   ],
   "source": [
    "job_url10=driver.find_elements_by_xpath('//a[@class=\"title fw500 ellipsis\"]')\n",
    "job_url10"
   ]
  },
  {
   "cell_type": "code",
   "execution_count": 279,
   "metadata": {},
   "outputs": [
    {
     "data": {
      "text/plain": [
       "['https://www.naukri.com/job-listings-hiring-for-data-scientist-tata-consultancy-services-chennai-bangalore-bengaluru-mumbai-all-areas-3-to-8-years-110921000464?src=jobsearchDesk&sid=16315376767391052&xp=1&px=1',\n",
       " 'https://www.naukri.com/job-listings-lead-data-scientist-bfsi-ibm-india-pvt-limited-bengaluru-bangalore-5-to-9-years-070921901691?src=jobsearchDesk&sid=16315376767391052&xp=2&px=1',\n",
       " 'https://www.naukri.com/job-listings-associate-data-scientist-philips-india-limited-bangalore-bengaluru-3-to-5-years-060921501985?src=jobsearchDesk&sid=16315376767391052&xp=3&px=1',\n",
       " 'https://www.naukri.com/job-listings-data-scientist-brillio-technologies-pvt-ltd-bangalore-bengaluru-3-to-8-years-130921905402?src=jobsearchDesk&sid=16315376767391052&xp=4&px=1',\n",
       " 'https://www.naukri.com/job-listings-data-scientist-allegis-services-india-pvt-ltd-bangalore-bengaluru-4-to-8-years-130921603395?src=jobsearchDesk&sid=16315376767391052&xp=5&px=1',\n",
       " 'https://www.naukri.com/job-listings-data-scientist-allegis-services-india-pvt-ltd-bangalore-bengaluru-4-to-8-years-130921003393?src=jobsearchDesk&sid=16315376767391052&xp=6&px=1',\n",
       " 'https://www.naukri.com/job-listings-data-scientist-advanced-analytics-ibm-india-pvt-limited-bengaluru-bangalore-3-to-7-years-070921901677?src=jobsearchDesk&sid=16315376767391052&xp=7&px=1',\n",
       " 'https://www.naukri.com/job-listings-senior-data-scientist-walmart-labs-bangalore-bengaluru-6-to-10-years-090921501063?src=jobsearchDesk&sid=16315376767391052&xp=8&px=1',\n",
       " 'https://www.naukri.com/job-listings-senior-data-scientist-airbnb-bangalore-bengaluru-7-to-12-years-080921500017?src=jobsearchDesk&sid=16315376767391052&xp=9&px=1',\n",
       " 'https://www.naukri.com/job-listings-sr-data-scientist-ibm-india-pvt-limited-bengaluru-bangalore-6-to-8-years-010921906637?src=jobsearchDesk&sid=16315376767391052&xp=10&px=1',\n",
       " 'https://www.naukri.com/job-listings-sr-data-scientist-ibm-india-pvt-limited-bangalore-bengaluru-6-to-8-years-010921906105?src=jobsearchDesk&sid=16315376767391052&xp=11&px=1',\n",
       " 'https://www.naukri.com/job-listings-senior-data-scientist-happiest-minds-technologies-pvt-ltd-bangalore-bengaluru-5-to-10-years-070921501517?src=jobsearchDesk&sid=16315376767391052&xp=12&px=1',\n",
       " 'https://www.naukri.com/job-listings-senior-data-scientist-in4-walmart-labs-bangalore-bengaluru-7-to-10-years-090921501064?src=jobsearchDesk&sid=16315376767391052&xp=13&px=1',\n",
       " 'https://www.naukri.com/job-listings-senior-data-scientist-marketplace-walmart-labs-bangalore-bengaluru-4-to-8-years-090921500549?src=jobsearchDesk&sid=16315376767391052&xp=14&px=1',\n",
       " 'https://www.naukri.com/job-listings-hiring-for-manager-and-sr-manager-data-scientist-vision-beyond-resources-india-private-limited-noida-mumbai-new-delhi-gurgaon-gurugram-bangalore-bengaluru-8-to-13-years-090921005986?src=jobsearchDesk&sid=16315376767391052&xp=15&px=1',\n",
       " 'https://www.naukri.com/job-listings-requirement-for-data-scientist-mumbai-bangalore-crisil-limited-bangalore-bengaluru-mumbai-all-areas-2-to-6-years-080921005523?src=jobsearchDesk&sid=16315376767391052&xp=16&px=1',\n",
       " 'https://www.naukri.com/job-listings-data-scientist-python-sql-ave-promagne-hyderabad-secunderabad-chennai-bangalore-bengaluru-6-to-8-years-060921904967?src=jobsearchDesk&sid=16315376767391052&xp=17&px=1',\n",
       " 'https://www.naukri.com/job-listings-lead-data-scientist-machine-learning-data-mining-wrackle-technologies-pvt-ltd-bangalore-bengaluru-6-to-11-years-080221900886?src=jobsearchDesk&sid=16315376767391052&xp=18&px=1',\n",
       " 'https://www.naukri.com/job-listings-data-scientist-senior-business-analyst-lead-analyst-evalueserve-com-pvt-ltd-gurgaon-gurugram-bangalore-bengaluru-2-to-7-years-110821005065?src=jobsearchDesk&sid=16315376767391052&xp=19&px=1',\n",
       " 'https://www.naukri.com/job-listings-data-scientist-python-r-3-years-crescendo-global-leadership-hiring-india-private-l-imited-bangalore-bengaluru-delhi-ncr-mumbai-all-areas-3-to-8-years-110921000469?src=jobsearchDesk&sid=16315376767391052&xp=20&px=1']"
      ]
     },
     "execution_count": 279,
     "metadata": {},
     "output_type": "execute_result"
    }
   ],
   "source": [
    "job_url11 = []\n",
    "for i in job_url10:\n",
    "    job_url11.append(i.get_attribute('href'))\n",
    "    \n",
    "job_url11"
   ]
  },
  {
   "cell_type": "code",
   "execution_count": 280,
   "metadata": {},
   "outputs": [
    {
     "data": {
      "text/plain": [
       "['--',\n",
       " '--',\n",
       " '--',\n",
       " '--',\n",
       " '--',\n",
       " '--',\n",
       " '--',\n",
       " '--',\n",
       " '--',\n",
       " '--',\n",
       " '--',\n",
       " '--',\n",
       " '--',\n",
       " '--',\n",
       " '--',\n",
       " '--',\n",
       " '--',\n",
       " '--',\n",
       " '--',\n",
       " '--']"
      ]
     },
     "execution_count": 280,
     "metadata": {},
     "output_type": "execute_result"
    }
   ],
   "source": [
    "job_title11 = []\n",
    "for x in job_url11:\n",
    "    driver.get(x)\n",
    "    try:\n",
    "        jobtitle=driver.get('//h1[@class=\"av-special-heading-tag \"]')\n",
    "        job_title11.append(jobtitle)\n",
    "    except:\n",
    "        job_title11.append('--')\n",
    "        \n",
    "job_title11\n",
    "        "
   ]
  },
  {
   "cell_type": "code",
   "execution_count": 281,
   "metadata": {},
   "outputs": [
    {
     "data": {
      "text/html": [
       "<div>\n",
       "<style scoped>\n",
       "    .dataframe tbody tr th:only-of-type {\n",
       "        vertical-align: middle;\n",
       "    }\n",
       "\n",
       "    .dataframe tbody tr th {\n",
       "        vertical-align: top;\n",
       "    }\n",
       "\n",
       "    .dataframe thead th {\n",
       "        text-align: right;\n",
       "    }\n",
       "</style>\n",
       "<table border=\"1\" class=\"dataframe\">\n",
       "  <thead>\n",
       "    <tr style=\"text-align: right;\">\n",
       "      <th></th>\n",
       "      <th>jobtitle</th>\n",
       "      <th>jobcompany</th>\n",
       "      <th>joblocation</th>\n",
       "      <th>joburl</th>\n",
       "    </tr>\n",
       "  </thead>\n",
       "  <tbody>\n",
       "    <tr>\n",
       "      <th>0</th>\n",
       "      <td>--</td>\n",
       "      <td>Tata Consultancy Services Ltd.</td>\n",
       "      <td>Chennai, Bangalore/Bengaluru, Mumbai (All Areas)</td>\n",
       "      <td>https://www.naukri.com/job-listings-hiring-for...</td>\n",
       "    </tr>\n",
       "    <tr>\n",
       "      <th>1</th>\n",
       "      <td>--</td>\n",
       "      <td>IBM India Pvt. Limited</td>\n",
       "      <td>(WFH during Covid)</td>\n",
       "      <td>https://www.naukri.com/job-listings-lead-data-...</td>\n",
       "    </tr>\n",
       "    <tr>\n",
       "      <th>2</th>\n",
       "      <td>--</td>\n",
       "      <td>Philips India Limited</td>\n",
       "      <td>Bengaluru/Bangalore</td>\n",
       "      <td>https://www.naukri.com/job-listings-associate-...</td>\n",
       "    </tr>\n",
       "    <tr>\n",
       "      <th>3</th>\n",
       "      <td>--</td>\n",
       "      <td>Brillio</td>\n",
       "      <td>Bangalore/Bengaluru</td>\n",
       "      <td>https://www.naukri.com/job-listings-data-scien...</td>\n",
       "    </tr>\n",
       "    <tr>\n",
       "      <th>4</th>\n",
       "      <td>--</td>\n",
       "      <td>Allegis Services India Pvt. Ltd.</td>\n",
       "      <td>Bangalore/Bengaluru</td>\n",
       "      <td>https://www.naukri.com/job-listings-data-scien...</td>\n",
       "    </tr>\n",
       "    <tr>\n",
       "      <th>5</th>\n",
       "      <td>--</td>\n",
       "      <td>Allegis Services India Pvt. Ltd.</td>\n",
       "      <td>Bangalore/Bengaluru</td>\n",
       "      <td>https://www.naukri.com/job-listings-data-scien...</td>\n",
       "    </tr>\n",
       "    <tr>\n",
       "      <th>6</th>\n",
       "      <td>--</td>\n",
       "      <td>IBM India Pvt. Limited</td>\n",
       "      <td>Bangalore/Bengaluru</td>\n",
       "      <td>https://www.naukri.com/job-listings-data-scien...</td>\n",
       "    </tr>\n",
       "    <tr>\n",
       "      <th>7</th>\n",
       "      <td>--</td>\n",
       "      <td>Walmart Labs</td>\n",
       "      <td>Bengaluru/Bangalore</td>\n",
       "      <td>https://www.naukri.com/job-listings-senior-dat...</td>\n",
       "    </tr>\n",
       "    <tr>\n",
       "      <th>8</th>\n",
       "      <td>--</td>\n",
       "      <td>Airbnb</td>\n",
       "      <td>Bangalore/Bengaluru</td>\n",
       "      <td>https://www.naukri.com/job-listings-senior-dat...</td>\n",
       "    </tr>\n",
       "    <tr>\n",
       "      <th>9</th>\n",
       "      <td>--</td>\n",
       "      <td>IBM India Pvt. Limited</td>\n",
       "      <td>Bangalore/Bengaluru</td>\n",
       "      <td>https://www.naukri.com/job-listings-sr-data-sc...</td>\n",
       "    </tr>\n",
       "  </tbody>\n",
       "</table>\n",
       "</div>"
      ],
      "text/plain": [
       "  jobtitle                        jobcompany  \\\n",
       "0       --    Tata Consultancy Services Ltd.   \n",
       "1       --            IBM India Pvt. Limited   \n",
       "2       --             Philips India Limited   \n",
       "3       --                           Brillio   \n",
       "4       --  Allegis Services India Pvt. Ltd.   \n",
       "5       --  Allegis Services India Pvt. Ltd.   \n",
       "6       --            IBM India Pvt. Limited   \n",
       "7       --                      Walmart Labs   \n",
       "8       --                            Airbnb   \n",
       "9       --            IBM India Pvt. Limited   \n",
       "\n",
       "                                        joblocation  \\\n",
       "0  Chennai, Bangalore/Bengaluru, Mumbai (All Areas)   \n",
       "1                                (WFH during Covid)   \n",
       "2                               Bengaluru/Bangalore   \n",
       "3                               Bangalore/Bengaluru   \n",
       "4                               Bangalore/Bengaluru   \n",
       "5                               Bangalore/Bengaluru   \n",
       "6                               Bangalore/Bengaluru   \n",
       "7                               Bengaluru/Bangalore   \n",
       "8                               Bangalore/Bengaluru   \n",
       "9                               Bangalore/Bengaluru   \n",
       "\n",
       "                                              joburl  \n",
       "0  https://www.naukri.com/job-listings-hiring-for...  \n",
       "1  https://www.naukri.com/job-listings-lead-data-...  \n",
       "2  https://www.naukri.com/job-listings-associate-...  \n",
       "3  https://www.naukri.com/job-listings-data-scien...  \n",
       "4  https://www.naukri.com/job-listings-data-scien...  \n",
       "5  https://www.naukri.com/job-listings-data-scien...  \n",
       "6  https://www.naukri.com/job-listings-data-scien...  \n",
       "7  https://www.naukri.com/job-listings-senior-dat...  \n",
       "8  https://www.naukri.com/job-listings-senior-dat...  \n",
       "9  https://www.naukri.com/job-listings-sr-data-sc...  "
      ]
     },
     "execution_count": 281,
     "metadata": {},
     "output_type": "execute_result"
    }
   ],
   "source": [
    "topdsjob=pd.DataFrame({})\n",
    "topdsjob['jobtitle']=job_title11[0:10]\n",
    "topdsjob['jobcompany']=job_company11[0:10]\n",
    "topdsjob['joblocation']=job_location11[0:10]\n",
    "topdsjob['joburl']=job_url11[0:10]\n",
    "\n",
    "topdsjob"
   ]
  },
  {
   "cell_type": "code",
   "execution_count": null,
   "metadata": {},
   "outputs": [],
   "source": []
  }
 ],
 "metadata": {
  "kernelspec": {
   "display_name": "Python 3",
   "language": "python",
   "name": "python3"
  },
  "language_info": {
   "codemirror_mode": {
    "name": "ipython",
    "version": 3
   },
   "file_extension": ".py",
   "mimetype": "text/x-python",
   "name": "python",
   "nbconvert_exporter": "python",
   "pygments_lexer": "ipython3",
   "version": "3.8.5"
  }
 },
 "nbformat": 4,
 "nbformat_minor": 4
}
